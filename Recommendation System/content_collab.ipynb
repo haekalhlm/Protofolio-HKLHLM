{
  "metadata": {
    "kernelspec": {
      "language": "python",
      "display_name": "Python 3",
      "name": "python3"
    },
    "language_info": {
      "name": "python",
      "version": "3.7.12",
      "mimetype": "text/x-python",
      "codemirror_mode": {
        "name": "ipython",
        "version": 3
      },
      "pygments_lexer": "ipython3",
      "nbconvert_exporter": "python",
      "file_extension": ".py"
    },
    "colab": {
      "provenance": []
    },
    "accelerator": "GPU",
    "gpuClass": "standard"
  },
  "nbformat_minor": 0,
  "nbformat": 4,
  "cells": [
    {
      "cell_type": "markdown",
      "source": [
        "# **CONTENT-BASED COLLABORATIVE RECOMMENDER SYSTEM**"
      ],
      "metadata": {
        "id": "LQWpxsIMKglz"
      }
    },
    {
      "cell_type": "markdown",
      "source": [
        "Import library yang di butuhkan"
      ],
      "metadata": {
        "id": "SvQ_hLqFLbVS"
      }
    },
    {
      "cell_type": "code",
      "source": [
        "import pandas as pd\n",
        "import numpy as np \n",
        "from zipfile import ZipFile\n",
        "import tensorflow as tf\n",
        "from tensorflow import keras\n",
        "from tensorflow.keras import layers\n",
        "from pathlib import Path\n",
        "import matplotlib.pyplot as plt\n",
        "from sklearn.feature_extraction.text import TfidfVectorizer\n",
        "import seaborn as sns\n",
        "import re"
      ],
      "metadata": {
        "_uuid": "8f2839f25d086af736a60e9eeb907d3b93b6e0e5",
        "_cell_guid": "b1076dfc-b9ad-4769-8c92-a6c4dae69d19",
        "execution": {
          "iopub.status.busy": "2022-11-15T15:51:01.609615Z",
          "iopub.execute_input": "2022-11-15T15:51:01.610016Z",
          "iopub.status.idle": "2022-11-15T15:51:01.616794Z",
          "shell.execute_reply.started": "2022-11-15T15:51:01.609985Z",
          "shell.execute_reply": "2022-11-15T15:51:01.615588Z"
        },
        "trusted": true,
        "id": "gIqF1GlpAJxp"
      },
      "execution_count": null,
      "outputs": []
    },
    {
      "cell_type": "markdown",
      "source": [
        "# **Data loading**"
      ],
      "metadata": {
        "id": "CYYVIK8uLkd_"
      }
    },
    {
      "cell_type": "code",
      "source": [
        "! pip install kaggle"
      ],
      "metadata": {
        "colab": {
          "base_uri": "https://localhost:8080/"
        },
        "id": "NkGQDUQEAcU4",
        "outputId": "1f5214b9-477a-43f3-e90c-4f2d66aae338"
      },
      "execution_count": null,
      "outputs": [
        {
          "output_type": "stream",
          "name": "stdout",
          "text": [
            "Looking in indexes: https://pypi.org/simple, https://us-python.pkg.dev/colab-wheels/public/simple/\n",
            "Requirement already satisfied: kaggle in /usr/local/lib/python3.7/dist-packages (1.5.12)\n",
            "Requirement already satisfied: certifi in /usr/local/lib/python3.7/dist-packages (from kaggle) (2022.9.24)\n",
            "Requirement already satisfied: tqdm in /usr/local/lib/python3.7/dist-packages (from kaggle) (4.64.1)\n",
            "Requirement already satisfied: python-slugify in /usr/local/lib/python3.7/dist-packages (from kaggle) (6.1.2)\n",
            "Requirement already satisfied: requests in /usr/local/lib/python3.7/dist-packages (from kaggle) (2.23.0)\n",
            "Requirement already satisfied: six>=1.10 in /usr/local/lib/python3.7/dist-packages (from kaggle) (1.15.0)\n",
            "Requirement already satisfied: urllib3 in /usr/local/lib/python3.7/dist-packages (from kaggle) (1.24.3)\n",
            "Requirement already satisfied: python-dateutil in /usr/local/lib/python3.7/dist-packages (from kaggle) (2.8.2)\n",
            "Requirement already satisfied: text-unidecode>=1.3 in /usr/local/lib/python3.7/dist-packages (from python-slugify->kaggle) (1.3)\n",
            "Requirement already satisfied: chardet<4,>=3.0.2 in /usr/local/lib/python3.7/dist-packages (from requests->kaggle) (3.0.4)\n",
            "Requirement already satisfied: idna<3,>=2.5 in /usr/local/lib/python3.7/dist-packages (from requests->kaggle) (2.10)\n"
          ]
        }
      ]
    },
    {
      "cell_type": "code",
      "source": [
        "from google.colab import files\n",
        "\n",
        "uploaded = files.upload()\n",
        "\n",
        "for fn in uploaded.keys():\n",
        "  print('User uploaded file \"{name}\" with length {length} bytes'.format(\n",
        "      name=fn, length=len(uploaded[fn])))\n",
        "  \n",
        "# Then move kaggle.json into the folder where the API expects to find it.\n",
        "!mkdir -p ~/.kaggle/ && mv kaggle.json ~/.kaggle/ && chmod 600 ~/.kaggle/kaggle.json\n"
      ],
      "metadata": {
        "colab": {
          "base_uri": "https://localhost:8080/",
          "height": 91
        },
        "id": "JVs8XMuAAdFW",
        "outputId": "5b0b9f0e-3904-4449-a465-782086d18f9d"
      },
      "execution_count": null,
      "outputs": [
        {
          "output_type": "display_data",
          "data": {
            "text/plain": [
              "<IPython.core.display.HTML object>"
            ],
            "text/html": [
              "\n",
              "     <input type=\"file\" id=\"files-58f15b68-da9a-438f-91b2-27d865d46e22\" name=\"files[]\" multiple disabled\n",
              "        style=\"border:none\" />\n",
              "     <output id=\"result-58f15b68-da9a-438f-91b2-27d865d46e22\">\n",
              "      Upload widget is only available when the cell has been executed in the\n",
              "      current browser session. Please rerun this cell to enable.\n",
              "      </output>\n",
              "      <script>// Copyright 2017 Google LLC\n",
              "//\n",
              "// Licensed under the Apache License, Version 2.0 (the \"License\");\n",
              "// you may not use this file except in compliance with the License.\n",
              "// You may obtain a copy of the License at\n",
              "//\n",
              "//      http://www.apache.org/licenses/LICENSE-2.0\n",
              "//\n",
              "// Unless required by applicable law or agreed to in writing, software\n",
              "// distributed under the License is distributed on an \"AS IS\" BASIS,\n",
              "// WITHOUT WARRANTIES OR CONDITIONS OF ANY KIND, either express or implied.\n",
              "// See the License for the specific language governing permissions and\n",
              "// limitations under the License.\n",
              "\n",
              "/**\n",
              " * @fileoverview Helpers for google.colab Python module.\n",
              " */\n",
              "(function(scope) {\n",
              "function span(text, styleAttributes = {}) {\n",
              "  const element = document.createElement('span');\n",
              "  element.textContent = text;\n",
              "  for (const key of Object.keys(styleAttributes)) {\n",
              "    element.style[key] = styleAttributes[key];\n",
              "  }\n",
              "  return element;\n",
              "}\n",
              "\n",
              "// Max number of bytes which will be uploaded at a time.\n",
              "const MAX_PAYLOAD_SIZE = 100 * 1024;\n",
              "\n",
              "function _uploadFiles(inputId, outputId) {\n",
              "  const steps = uploadFilesStep(inputId, outputId);\n",
              "  const outputElement = document.getElementById(outputId);\n",
              "  // Cache steps on the outputElement to make it available for the next call\n",
              "  // to uploadFilesContinue from Python.\n",
              "  outputElement.steps = steps;\n",
              "\n",
              "  return _uploadFilesContinue(outputId);\n",
              "}\n",
              "\n",
              "// This is roughly an async generator (not supported in the browser yet),\n",
              "// where there are multiple asynchronous steps and the Python side is going\n",
              "// to poll for completion of each step.\n",
              "// This uses a Promise to block the python side on completion of each step,\n",
              "// then passes the result of the previous step as the input to the next step.\n",
              "function _uploadFilesContinue(outputId) {\n",
              "  const outputElement = document.getElementById(outputId);\n",
              "  const steps = outputElement.steps;\n",
              "\n",
              "  const next = steps.next(outputElement.lastPromiseValue);\n",
              "  return Promise.resolve(next.value.promise).then((value) => {\n",
              "    // Cache the last promise value to make it available to the next\n",
              "    // step of the generator.\n",
              "    outputElement.lastPromiseValue = value;\n",
              "    return next.value.response;\n",
              "  });\n",
              "}\n",
              "\n",
              "/**\n",
              " * Generator function which is called between each async step of the upload\n",
              " * process.\n",
              " * @param {string} inputId Element ID of the input file picker element.\n",
              " * @param {string} outputId Element ID of the output display.\n",
              " * @return {!Iterable<!Object>} Iterable of next steps.\n",
              " */\n",
              "function* uploadFilesStep(inputId, outputId) {\n",
              "  const inputElement = document.getElementById(inputId);\n",
              "  inputElement.disabled = false;\n",
              "\n",
              "  const outputElement = document.getElementById(outputId);\n",
              "  outputElement.innerHTML = '';\n",
              "\n",
              "  const pickedPromise = new Promise((resolve) => {\n",
              "    inputElement.addEventListener('change', (e) => {\n",
              "      resolve(e.target.files);\n",
              "    });\n",
              "  });\n",
              "\n",
              "  const cancel = document.createElement('button');\n",
              "  inputElement.parentElement.appendChild(cancel);\n",
              "  cancel.textContent = 'Cancel upload';\n",
              "  const cancelPromise = new Promise((resolve) => {\n",
              "    cancel.onclick = () => {\n",
              "      resolve(null);\n",
              "    };\n",
              "  });\n",
              "\n",
              "  // Wait for the user to pick the files.\n",
              "  const files = yield {\n",
              "    promise: Promise.race([pickedPromise, cancelPromise]),\n",
              "    response: {\n",
              "      action: 'starting',\n",
              "    }\n",
              "  };\n",
              "\n",
              "  cancel.remove();\n",
              "\n",
              "  // Disable the input element since further picks are not allowed.\n",
              "  inputElement.disabled = true;\n",
              "\n",
              "  if (!files) {\n",
              "    return {\n",
              "      response: {\n",
              "        action: 'complete',\n",
              "      }\n",
              "    };\n",
              "  }\n",
              "\n",
              "  for (const file of files) {\n",
              "    const li = document.createElement('li');\n",
              "    li.append(span(file.name, {fontWeight: 'bold'}));\n",
              "    li.append(span(\n",
              "        `(${file.type || 'n/a'}) - ${file.size} bytes, ` +\n",
              "        `last modified: ${\n",
              "            file.lastModifiedDate ? file.lastModifiedDate.toLocaleDateString() :\n",
              "                                    'n/a'} - `));\n",
              "    const percent = span('0% done');\n",
              "    li.appendChild(percent);\n",
              "\n",
              "    outputElement.appendChild(li);\n",
              "\n",
              "    const fileDataPromise = new Promise((resolve) => {\n",
              "      const reader = new FileReader();\n",
              "      reader.onload = (e) => {\n",
              "        resolve(e.target.result);\n",
              "      };\n",
              "      reader.readAsArrayBuffer(file);\n",
              "    });\n",
              "    // Wait for the data to be ready.\n",
              "    let fileData = yield {\n",
              "      promise: fileDataPromise,\n",
              "      response: {\n",
              "        action: 'continue',\n",
              "      }\n",
              "    };\n",
              "\n",
              "    // Use a chunked sending to avoid message size limits. See b/62115660.\n",
              "    let position = 0;\n",
              "    do {\n",
              "      const length = Math.min(fileData.byteLength - position, MAX_PAYLOAD_SIZE);\n",
              "      const chunk = new Uint8Array(fileData, position, length);\n",
              "      position += length;\n",
              "\n",
              "      const base64 = btoa(String.fromCharCode.apply(null, chunk));\n",
              "      yield {\n",
              "        response: {\n",
              "          action: 'append',\n",
              "          file: file.name,\n",
              "          data: base64,\n",
              "        },\n",
              "      };\n",
              "\n",
              "      let percentDone = fileData.byteLength === 0 ?\n",
              "          100 :\n",
              "          Math.round((position / fileData.byteLength) * 100);\n",
              "      percent.textContent = `${percentDone}% done`;\n",
              "\n",
              "    } while (position < fileData.byteLength);\n",
              "  }\n",
              "\n",
              "  // All done.\n",
              "  yield {\n",
              "    response: {\n",
              "      action: 'complete',\n",
              "    }\n",
              "  };\n",
              "}\n",
              "\n",
              "scope.google = scope.google || {};\n",
              "scope.google.colab = scope.google.colab || {};\n",
              "scope.google.colab._files = {\n",
              "  _uploadFiles,\n",
              "  _uploadFilesContinue,\n",
              "};\n",
              "})(self);\n",
              "</script> "
            ]
          },
          "metadata": {}
        },
        {
          "output_type": "stream",
          "name": "stdout",
          "text": [
            "Saving kaggle.json to kaggle.json\n",
            "User uploaded file \"kaggle.json\" with length 67 bytes\n"
          ]
        }
      ]
    },
    {
      "cell_type": "code",
      "source": [
        "! kaggle datasets download -d CooperUnion/anime-recommendations-database"
      ],
      "metadata": {
        "colab": {
          "base_uri": "https://localhost:8080/"
        },
        "id": "PUCAomWDAfAf",
        "outputId": "679024a4-5657-41ec-b01a-71215f1888b7"
      },
      "execution_count": null,
      "outputs": [
        {
          "output_type": "stream",
          "name": "stdout",
          "text": [
            "Downloading anime-recommendations-database.zip to /content\n",
            "100% 25.0M/25.0M [00:03<00:00, 16.3MB/s]\n",
            "100% 25.0M/25.0M [00:03<00:00, 8.36MB/s]\n"
          ]
        }
      ]
    },
    {
      "cell_type": "code",
      "source": [
        "! unzip /content/anime-recommendations-database.zip"
      ],
      "metadata": {
        "colab": {
          "base_uri": "https://localhost:8080/"
        },
        "id": "5KG2nkOcAhCX",
        "outputId": "8c93bf9a-eaec-4b3a-8eac-63ff6ca86083"
      },
      "execution_count": null,
      "outputs": [
        {
          "output_type": "stream",
          "name": "stdout",
          "text": [
            "Archive:  /content/anime-recommendations-database.zip\n",
            "  inflating: anime.csv               \n",
            "  inflating: rating.csv              \n"
          ]
        }
      ]
    },
    {
      "cell_type": "markdown",
      "source": [
        "Import dataset"
      ],
      "metadata": {
        "id": "r2jOGH58LsLQ"
      }
    },
    {
      "cell_type": "code",
      "source": [
        "anime_df = pd.read_csv('anime.csv')\n",
        "rating_df = pd.read_csv('rating.csv')"
      ],
      "metadata": {
        "execution": {
          "iopub.status.busy": "2022-11-15T15:51:01.618957Z",
          "iopub.execute_input": "2022-11-15T15:51:01.619718Z",
          "iopub.status.idle": "2022-11-15T15:51:04.039551Z",
          "shell.execute_reply.started": "2022-11-15T15:51:01.619682Z",
          "shell.execute_reply": "2022-11-15T15:51:04.038548Z"
        },
        "trusted": true,
        "id": "Ix8YP8ADAJxw"
      },
      "execution_count": null,
      "outputs": []
    },
    {
      "cell_type": "markdown",
      "source": [
        "# **Data Understanding**\n",
        "**Variabel-variabel pada dataset adalah sebagai berikut:**\n",
        "**anime.csv**\n",
        "- anime_id : id unik anime\n",
        "- name : nama anime\n",
        "- genre : genre anime\n",
        "- type : tipe siaran anime (TV, Movie, etc)\n",
        "- episodes : jumlah episode anime\n",
        "- rating : rating anime\n",
        "- members : total user\n",
        "\n",
        "**rating.csv**\n",
        "- user_id : id unik user\n",
        "- anime_id : id unik anime\n",
        "- rating : rating yang diberikan oleh user\n"
      ],
      "metadata": {
        "id": "jI_xSS2AE_AP"
      }
    },
    {
      "cell_type": "code",
      "source": [
        "anime_df.head(10)"
      ],
      "metadata": {
        "execution": {
          "iopub.status.busy": "2022-11-15T15:51:22.501723Z",
          "iopub.execute_input": "2022-11-15T15:51:22.502563Z",
          "iopub.status.idle": "2022-11-15T15:51:22.525061Z",
          "shell.execute_reply.started": "2022-11-15T15:51:22.502527Z",
          "shell.execute_reply": "2022-11-15T15:51:22.523840Z"
        },
        "trusted": true,
        "colab": {
          "base_uri": "https://localhost:8080/",
          "height": 363
        },
        "id": "oXNvYtK0AJxw",
        "outputId": "232c72a1-e339-4656-984b-66e7defa3792"
      },
      "execution_count": null,
      "outputs": [
        {
          "output_type": "execute_result",
          "data": {
            "text/plain": [
              "   anime_id                                               name  \\\n",
              "0     32281                                     Kimi no Na wa.   \n",
              "1      5114                   Fullmetal Alchemist: Brotherhood   \n",
              "2     28977                                           Gintama°   \n",
              "3      9253                                        Steins;Gate   \n",
              "4      9969                                      Gintama&#039;   \n",
              "5     32935  Haikyuu!!: Karasuno Koukou VS Shiratorizawa Ga...   \n",
              "6     11061                             Hunter x Hunter (2011)   \n",
              "7       820                               Ginga Eiyuu Densetsu   \n",
              "8     15335  Gintama Movie: Kanketsu-hen - Yorozuya yo Eien...   \n",
              "9     15417                           Gintama&#039;: Enchousen   \n",
              "\n",
              "                                               genre   type episodes  rating  \\\n",
              "0               Drama, Romance, School, Supernatural  Movie        1    9.37   \n",
              "1  Action, Adventure, Drama, Fantasy, Magic, Mili...     TV       64    9.26   \n",
              "2  Action, Comedy, Historical, Parody, Samurai, S...     TV       51    9.25   \n",
              "3                                   Sci-Fi, Thriller     TV       24    9.17   \n",
              "4  Action, Comedy, Historical, Parody, Samurai, S...     TV       51    9.16   \n",
              "5             Comedy, Drama, School, Shounen, Sports     TV       10    9.15   \n",
              "6            Action, Adventure, Shounen, Super Power     TV      148    9.13   \n",
              "7                     Drama, Military, Sci-Fi, Space    OVA      110    9.11   \n",
              "8  Action, Comedy, Historical, Parody, Samurai, S...  Movie        1    9.10   \n",
              "9  Action, Comedy, Historical, Parody, Samurai, S...     TV       13    9.11   \n",
              "\n",
              "   members  \n",
              "0   200630  \n",
              "1   793665  \n",
              "2   114262  \n",
              "3   673572  \n",
              "4   151266  \n",
              "5    93351  \n",
              "6   425855  \n",
              "7    80679  \n",
              "8    72534  \n",
              "9    81109  "
            ],
            "text/html": [
              "\n",
              "  <div id=\"df-c3fe32fa-ec1a-4cf0-993d-ef36c282ff93\">\n",
              "    <div class=\"colab-df-container\">\n",
              "      <div>\n",
              "<style scoped>\n",
              "    .dataframe tbody tr th:only-of-type {\n",
              "        vertical-align: middle;\n",
              "    }\n",
              "\n",
              "    .dataframe tbody tr th {\n",
              "        vertical-align: top;\n",
              "    }\n",
              "\n",
              "    .dataframe thead th {\n",
              "        text-align: right;\n",
              "    }\n",
              "</style>\n",
              "<table border=\"1\" class=\"dataframe\">\n",
              "  <thead>\n",
              "    <tr style=\"text-align: right;\">\n",
              "      <th></th>\n",
              "      <th>anime_id</th>\n",
              "      <th>name</th>\n",
              "      <th>genre</th>\n",
              "      <th>type</th>\n",
              "      <th>episodes</th>\n",
              "      <th>rating</th>\n",
              "      <th>members</th>\n",
              "    </tr>\n",
              "  </thead>\n",
              "  <tbody>\n",
              "    <tr>\n",
              "      <th>0</th>\n",
              "      <td>32281</td>\n",
              "      <td>Kimi no Na wa.</td>\n",
              "      <td>Drama, Romance, School, Supernatural</td>\n",
              "      <td>Movie</td>\n",
              "      <td>1</td>\n",
              "      <td>9.37</td>\n",
              "      <td>200630</td>\n",
              "    </tr>\n",
              "    <tr>\n",
              "      <th>1</th>\n",
              "      <td>5114</td>\n",
              "      <td>Fullmetal Alchemist: Brotherhood</td>\n",
              "      <td>Action, Adventure, Drama, Fantasy, Magic, Mili...</td>\n",
              "      <td>TV</td>\n",
              "      <td>64</td>\n",
              "      <td>9.26</td>\n",
              "      <td>793665</td>\n",
              "    </tr>\n",
              "    <tr>\n",
              "      <th>2</th>\n",
              "      <td>28977</td>\n",
              "      <td>Gintama°</td>\n",
              "      <td>Action, Comedy, Historical, Parody, Samurai, S...</td>\n",
              "      <td>TV</td>\n",
              "      <td>51</td>\n",
              "      <td>9.25</td>\n",
              "      <td>114262</td>\n",
              "    </tr>\n",
              "    <tr>\n",
              "      <th>3</th>\n",
              "      <td>9253</td>\n",
              "      <td>Steins;Gate</td>\n",
              "      <td>Sci-Fi, Thriller</td>\n",
              "      <td>TV</td>\n",
              "      <td>24</td>\n",
              "      <td>9.17</td>\n",
              "      <td>673572</td>\n",
              "    </tr>\n",
              "    <tr>\n",
              "      <th>4</th>\n",
              "      <td>9969</td>\n",
              "      <td>Gintama&amp;#039;</td>\n",
              "      <td>Action, Comedy, Historical, Parody, Samurai, S...</td>\n",
              "      <td>TV</td>\n",
              "      <td>51</td>\n",
              "      <td>9.16</td>\n",
              "      <td>151266</td>\n",
              "    </tr>\n",
              "    <tr>\n",
              "      <th>5</th>\n",
              "      <td>32935</td>\n",
              "      <td>Haikyuu!!: Karasuno Koukou VS Shiratorizawa Ga...</td>\n",
              "      <td>Comedy, Drama, School, Shounen, Sports</td>\n",
              "      <td>TV</td>\n",
              "      <td>10</td>\n",
              "      <td>9.15</td>\n",
              "      <td>93351</td>\n",
              "    </tr>\n",
              "    <tr>\n",
              "      <th>6</th>\n",
              "      <td>11061</td>\n",
              "      <td>Hunter x Hunter (2011)</td>\n",
              "      <td>Action, Adventure, Shounen, Super Power</td>\n",
              "      <td>TV</td>\n",
              "      <td>148</td>\n",
              "      <td>9.13</td>\n",
              "      <td>425855</td>\n",
              "    </tr>\n",
              "    <tr>\n",
              "      <th>7</th>\n",
              "      <td>820</td>\n",
              "      <td>Ginga Eiyuu Densetsu</td>\n",
              "      <td>Drama, Military, Sci-Fi, Space</td>\n",
              "      <td>OVA</td>\n",
              "      <td>110</td>\n",
              "      <td>9.11</td>\n",
              "      <td>80679</td>\n",
              "    </tr>\n",
              "    <tr>\n",
              "      <th>8</th>\n",
              "      <td>15335</td>\n",
              "      <td>Gintama Movie: Kanketsu-hen - Yorozuya yo Eien...</td>\n",
              "      <td>Action, Comedy, Historical, Parody, Samurai, S...</td>\n",
              "      <td>Movie</td>\n",
              "      <td>1</td>\n",
              "      <td>9.10</td>\n",
              "      <td>72534</td>\n",
              "    </tr>\n",
              "    <tr>\n",
              "      <th>9</th>\n",
              "      <td>15417</td>\n",
              "      <td>Gintama&amp;#039;: Enchousen</td>\n",
              "      <td>Action, Comedy, Historical, Parody, Samurai, S...</td>\n",
              "      <td>TV</td>\n",
              "      <td>13</td>\n",
              "      <td>9.11</td>\n",
              "      <td>81109</td>\n",
              "    </tr>\n",
              "  </tbody>\n",
              "</table>\n",
              "</div>\n",
              "      <button class=\"colab-df-convert\" onclick=\"convertToInteractive('df-c3fe32fa-ec1a-4cf0-993d-ef36c282ff93')\"\n",
              "              title=\"Convert this dataframe to an interactive table.\"\n",
              "              style=\"display:none;\">\n",
              "        \n",
              "  <svg xmlns=\"http://www.w3.org/2000/svg\" height=\"24px\"viewBox=\"0 0 24 24\"\n",
              "       width=\"24px\">\n",
              "    <path d=\"M0 0h24v24H0V0z\" fill=\"none\"/>\n",
              "    <path d=\"M18.56 5.44l.94 2.06.94-2.06 2.06-.94-2.06-.94-.94-2.06-.94 2.06-2.06.94zm-11 1L8.5 8.5l.94-2.06 2.06-.94-2.06-.94L8.5 2.5l-.94 2.06-2.06.94zm10 10l.94 2.06.94-2.06 2.06-.94-2.06-.94-.94-2.06-.94 2.06-2.06.94z\"/><path d=\"M17.41 7.96l-1.37-1.37c-.4-.4-.92-.59-1.43-.59-.52 0-1.04.2-1.43.59L10.3 9.45l-7.72 7.72c-.78.78-.78 2.05 0 2.83L4 21.41c.39.39.9.59 1.41.59.51 0 1.02-.2 1.41-.59l7.78-7.78 2.81-2.81c.8-.78.8-2.07 0-2.86zM5.41 20L4 18.59l7.72-7.72 1.47 1.35L5.41 20z\"/>\n",
              "  </svg>\n",
              "      </button>\n",
              "      \n",
              "  <style>\n",
              "    .colab-df-container {\n",
              "      display:flex;\n",
              "      flex-wrap:wrap;\n",
              "      gap: 12px;\n",
              "    }\n",
              "\n",
              "    .colab-df-convert {\n",
              "      background-color: #E8F0FE;\n",
              "      border: none;\n",
              "      border-radius: 50%;\n",
              "      cursor: pointer;\n",
              "      display: none;\n",
              "      fill: #1967D2;\n",
              "      height: 32px;\n",
              "      padding: 0 0 0 0;\n",
              "      width: 32px;\n",
              "    }\n",
              "\n",
              "    .colab-df-convert:hover {\n",
              "      background-color: #E2EBFA;\n",
              "      box-shadow: 0px 1px 2px rgba(60, 64, 67, 0.3), 0px 1px 3px 1px rgba(60, 64, 67, 0.15);\n",
              "      fill: #174EA6;\n",
              "    }\n",
              "\n",
              "    [theme=dark] .colab-df-convert {\n",
              "      background-color: #3B4455;\n",
              "      fill: #D2E3FC;\n",
              "    }\n",
              "\n",
              "    [theme=dark] .colab-df-convert:hover {\n",
              "      background-color: #434B5C;\n",
              "      box-shadow: 0px 1px 3px 1px rgba(0, 0, 0, 0.15);\n",
              "      filter: drop-shadow(0px 1px 2px rgba(0, 0, 0, 0.3));\n",
              "      fill: #FFFFFF;\n",
              "    }\n",
              "  </style>\n",
              "\n",
              "      <script>\n",
              "        const buttonEl =\n",
              "          document.querySelector('#df-c3fe32fa-ec1a-4cf0-993d-ef36c282ff93 button.colab-df-convert');\n",
              "        buttonEl.style.display =\n",
              "          google.colab.kernel.accessAllowed ? 'block' : 'none';\n",
              "\n",
              "        async function convertToInteractive(key) {\n",
              "          const element = document.querySelector('#df-c3fe32fa-ec1a-4cf0-993d-ef36c282ff93');\n",
              "          const dataTable =\n",
              "            await google.colab.kernel.invokeFunction('convertToInteractive',\n",
              "                                                     [key], {});\n",
              "          if (!dataTable) return;\n",
              "\n",
              "          const docLinkHtml = 'Like what you see? Visit the ' +\n",
              "            '<a target=\"_blank\" href=https://colab.research.google.com/notebooks/data_table.ipynb>data table notebook</a>'\n",
              "            + ' to learn more about interactive tables.';\n",
              "          element.innerHTML = '';\n",
              "          dataTable['output_type'] = 'display_data';\n",
              "          await google.colab.output.renderOutput(dataTable, element);\n",
              "          const docLink = document.createElement('div');\n",
              "          docLink.innerHTML = docLinkHtml;\n",
              "          element.appendChild(docLink);\n",
              "        }\n",
              "      </script>\n",
              "    </div>\n",
              "  </div>\n",
              "  "
            ]
          },
          "metadata": {},
          "execution_count": 13
        }
      ]
    },
    {
      "cell_type": "markdown",
      "source": [
        "# **Memeriksa informasi pada table anime**"
      ],
      "metadata": {
        "id": "PzwpITZcFv72"
      }
    },
    {
      "cell_type": "code",
      "source": [
        "anime_df.info()"
      ],
      "metadata": {
        "execution": {
          "iopub.status.busy": "2022-11-15T15:51:22.527740Z",
          "iopub.execute_input": "2022-11-15T15:51:22.528337Z",
          "iopub.status.idle": "2022-11-15T15:51:22.637171Z",
          "shell.execute_reply.started": "2022-11-15T15:51:22.528296Z",
          "shell.execute_reply": "2022-11-15T15:51:22.635835Z"
        },
        "trusted": true,
        "colab": {
          "base_uri": "https://localhost:8080/"
        },
        "id": "kwEAj2wkAJxx",
        "outputId": "1bf912cb-16c6-4bb9-c7bd-774c67f1abb4"
      },
      "execution_count": null,
      "outputs": [
        {
          "output_type": "stream",
          "name": "stdout",
          "text": [
            "<class 'pandas.core.frame.DataFrame'>\n",
            "RangeIndex: 12294 entries, 0 to 12293\n",
            "Data columns (total 7 columns):\n",
            " #   Column    Non-Null Count  Dtype  \n",
            "---  ------    --------------  -----  \n",
            " 0   anime_id  12294 non-null  int64  \n",
            " 1   name      12294 non-null  object \n",
            " 2   genre     12232 non-null  object \n",
            " 3   type      12269 non-null  object \n",
            " 4   episodes  12294 non-null  object \n",
            " 5   rating    12064 non-null  float64\n",
            " 6   members   12294 non-null  int64  \n",
            "dtypes: float64(1), int64(2), object(4)\n",
            "memory usage: 672.5+ KB\n"
          ]
        }
      ]
    },
    {
      "cell_type": "markdown",
      "source": [
        "informasi dataframe anime.csv"
      ],
      "metadata": {
        "id": "t2oGDNrzMOKJ"
      }
    },
    {
      "cell_type": "markdown",
      "source": [
        "# **Menghilangkan missing value**"
      ],
      "metadata": {
        "id": "v68zKebMF8ga"
      }
    },
    {
      "cell_type": "code",
      "source": [
        "anime_df.isnull().sum()"
      ],
      "metadata": {
        "execution": {
          "iopub.status.busy": "2022-11-15T15:51:22.638941Z",
          "iopub.execute_input": "2022-11-15T15:51:22.639342Z",
          "iopub.status.idle": "2022-11-15T15:51:22.652097Z",
          "shell.execute_reply.started": "2022-11-15T15:51:22.639303Z",
          "shell.execute_reply": "2022-11-15T15:51:22.650864Z"
        },
        "trusted": true,
        "colab": {
          "base_uri": "https://localhost:8080/"
        },
        "id": "F4J6pdfUAJxy",
        "outputId": "54f0391d-6dd5-4ed3-86f1-09395fb20c95"
      },
      "execution_count": null,
      "outputs": [
        {
          "output_type": "execute_result",
          "data": {
            "text/plain": [
              "anime_id      0\n",
              "name          0\n",
              "genre        62\n",
              "type         25\n",
              "episodes      0\n",
              "rating      230\n",
              "members       0\n",
              "dtype: int64"
            ]
          },
          "metadata": {},
          "execution_count": 15
        }
      ]
    },
    {
      "cell_type": "code",
      "source": [
        "anime_df =  anime_df.dropna()\n",
        "anime_df.isnull().sum()"
      ],
      "metadata": {
        "execution": {
          "iopub.status.busy": "2022-11-15T15:51:22.654167Z",
          "iopub.execute_input": "2022-11-15T15:51:22.654792Z",
          "iopub.status.idle": "2022-11-15T15:51:22.672841Z",
          "shell.execute_reply.started": "2022-11-15T15:51:22.654750Z",
          "shell.execute_reply": "2022-11-15T15:51:22.671832Z"
        },
        "trusted": true,
        "colab": {
          "base_uri": "https://localhost:8080/"
        },
        "id": "uysvbwA_AJxy",
        "outputId": "b934c0ba-e124-498c-8bd9-ad3585b1f103"
      },
      "execution_count": null,
      "outputs": [
        {
          "output_type": "execute_result",
          "data": {
            "text/plain": [
              "anime_id    0\n",
              "name        0\n",
              "genre       0\n",
              "type        0\n",
              "episodes    0\n",
              "rating      0\n",
              "members     0\n",
              "dtype: int64"
            ]
          },
          "metadata": {},
          "execution_count": 16
        }
      ]
    },
    {
      "cell_type": "markdown",
      "source": [
        "Jika dilihat dari data anime di atas. Terdapat sejumlah kolom missing value pada data anime.csv."
      ],
      "metadata": {
        "id": "7CMTLRBbF94j"
      }
    },
    {
      "cell_type": "markdown",
      "source": [
        "**Membersihkan simbol-simbol**"
      ],
      "metadata": {
        "id": "L0yok-22GQH8"
      }
    },
    {
      "cell_type": "code",
      "source": [
        "def text_cleaning(text):\n",
        "    text = re.sub(r'&quot;', '', text)\n",
        "    text = re.sub(r'.hack//', '', text)\n",
        "    text = re.sub(r'&#039;', '', text)\n",
        "    text = re.sub(r'A&#039;s', '', text)\n",
        "    text = re.sub(r'I&#039;', 'I\\'', text)\n",
        "    text = re.sub(r'&amp;', 'and', text)\n",
        "    \n",
        "    return text\n",
        "\n",
        "anime_df['name'] = anime_df['name'].apply(text_cleaning)"
      ],
      "metadata": {
        "id": "GdAeJqRRFA_O",
        "colab": {
          "base_uri": "https://localhost:8080/"
        },
        "outputId": "ff0c4e04-bfc4-480e-86c4-6b6305b16fb6"
      },
      "execution_count": null,
      "outputs": [
        {
          "output_type": "stream",
          "name": "stderr",
          "text": [
            "/usr/local/lib/python3.7/dist-packages/ipykernel_launcher.py:11: SettingWithCopyWarning: \n",
            "A value is trying to be set on a copy of a slice from a DataFrame.\n",
            "Try using .loc[row_indexer,col_indexer] = value instead\n",
            "\n",
            "See the caveats in the documentation: https://pandas.pydata.org/pandas-docs/stable/user_guide/indexing.html#returning-a-view-versus-a-copy\n",
            "  # This is added back by InteractiveShellApp.init_path()\n"
          ]
        }
      ]
    },
    {
      "cell_type": "markdown",
      "source": [
        "Membersihkan karakter yang tidak bisa di baca, kemungkinan adanya huruf jepang"
      ],
      "metadata": {
        "id": "Zmtna3j4MwSO"
      }
    },
    {
      "cell_type": "code",
      "source": [
        "anime_df['genre'] = pd.DataFrame(anime_df['genre'].str.replace('|', ',', regex=True))"
      ],
      "metadata": {
        "execution": {
          "iopub.status.busy": "2022-11-15T15:51:22.674237Z",
          "iopub.execute_input": "2022-11-15T15:51:22.674772Z",
          "iopub.status.idle": "2022-11-15T15:51:22.686823Z",
          "shell.execute_reply.started": "2022-11-15T15:51:22.674737Z",
          "shell.execute_reply": "2022-11-15T15:51:22.685716Z"
        },
        "trusted": true,
        "id": "xnVUQkdXAJxy",
        "colab": {
          "base_uri": "https://localhost:8080/"
        },
        "outputId": "b5d0db6f-9813-49d8-a8e9-531672ba194d"
      },
      "execution_count": null,
      "outputs": [
        {
          "output_type": "stream",
          "name": "stderr",
          "text": [
            "/usr/local/lib/python3.7/dist-packages/ipykernel_launcher.py:1: SettingWithCopyWarning: \n",
            "A value is trying to be set on a copy of a slice from a DataFrame.\n",
            "Try using .loc[row_indexer,col_indexer] = value instead\n",
            "\n",
            "See the caveats in the documentation: https://pandas.pydata.org/pandas-docs/stable/user_guide/indexing.html#returning-a-view-versus-a-copy\n",
            "  \"\"\"Entry point for launching an IPython kernel.\n"
          ]
        }
      ]
    },
    {
      "cell_type": "markdown",
      "source": [
        "# **Visualization**"
      ],
      "metadata": {
        "id": "S1TdgitVGZi4"
      }
    },
    {
      "cell_type": "code",
      "source": [
        "genre_data = (anime_df.set_index(anime_df.columns.drop('genre',1).tolist())['genre']\n",
        "               .str.split(',', expand=True)\n",
        "               .stack()\n",
        "               .reset_index()\n",
        "               .rename(columns={0:'genre'})\n",
        "               .loc[:, anime_df.columns]\n",
        "               )"
      ],
      "metadata": {
        "execution": {
          "iopub.status.busy": "2022-11-15T15:51:22.688101Z",
          "iopub.execute_input": "2022-11-15T15:51:22.688997Z",
          "iopub.status.idle": "2022-11-15T15:51:23.117489Z",
          "shell.execute_reply.started": "2022-11-15T15:51:22.688953Z",
          "shell.execute_reply": "2022-11-15T15:51:23.116400Z"
        },
        "trusted": true,
        "id": "BBb-d8HEAJxy"
      },
      "execution_count": null,
      "outputs": []
    },
    {
      "cell_type": "code",
      "source": [
        "type_count = anime_df['type'].value_counts()\n",
        "\n",
        "sns.barplot(x=type_count.values,\n",
        "            y=type_count.index,\n",
        "            palette='muted').set_title('Anime Types')\n",
        "\n",
        "plt.tight_layout()\n",
        "plt.show()"
      ],
      "metadata": {
        "colab": {
          "base_uri": "https://localhost:8080/",
          "height": 297
        },
        "id": "TMkqIk0MGGBZ",
        "outputId": "aeb53fe9-a87f-4ede-8c5f-3d5e64400704"
      },
      "execution_count": null,
      "outputs": [
        {
          "output_type": "display_data",
          "data": {
            "text/plain": [
              "<Figure size 432x288 with 1 Axes>"
            ],
            "image/png": "[encoded data removed]"
          },
          "metadata": {
            "needs_background": "light"
          }
        }
      ]
    },
    {
      "cell_type": "markdown",
      "source": [
        "Anime bertipe TV mampunyai jumlah paling banyak "
      ],
      "metadata": {
        "id": "O6_ECVa1NMk8"
      }
    },
    {
      "cell_type": "markdown",
      "source": [
        "# **Memeriksa informasi dari data table rating**"
      ],
      "metadata": {
        "id": "Ujcftfy7GpRT"
      }
    },
    {
      "cell_type": "code",
      "source": [
        "rating_df.info()"
      ],
      "metadata": {
        "execution": {
          "iopub.status.busy": "2022-11-15T15:51:23.290716Z",
          "iopub.execute_input": "2022-11-15T15:51:23.291359Z",
          "iopub.status.idle": "2022-11-15T15:51:23.304788Z",
          "shell.execute_reply.started": "2022-11-15T15:51:23.291323Z",
          "shell.execute_reply": "2022-11-15T15:51:23.303620Z"
        },
        "trusted": true,
        "colab": {
          "base_uri": "https://localhost:8080/"
        },
        "id": "er1JAnKbAJxz",
        "outputId": "e5b25476-ac0c-42da-9457-4898975c673b"
      },
      "execution_count": null,
      "outputs": [
        {
          "output_type": "stream",
          "name": "stdout",
          "text": [
            "<class 'pandas.core.frame.DataFrame'>\n",
            "RangeIndex: 7813737 entries, 0 to 7813736\n",
            "Data columns (total 3 columns):\n",
            " #   Column    Dtype\n",
            "---  ------    -----\n",
            " 0   user_id   int64\n",
            " 1   anime_id  int64\n",
            " 2   rating    int64\n",
            "dtypes: int64(3)\n",
            "memory usage: 178.8 MB\n"
          ]
        }
      ]
    },
    {
      "cell_type": "markdown",
      "source": [
        "Informasi Dataframe rating.csv\n"
      ],
      "metadata": {
        "id": "8WdbxdpUN3QL"
      }
    },
    {
      "cell_type": "code",
      "source": [
        "rating_df = rating_df.drop(range(2000, 7813737))\n",
        "rating_df"
      ],
      "metadata": {
        "execution": {
          "iopub.status.busy": "2022-11-15T15:51:23.306351Z",
          "iopub.execute_input": "2022-11-15T15:51:23.308466Z",
          "iopub.status.idle": "2022-11-15T15:51:24.452963Z",
          "shell.execute_reply.started": "2022-11-15T15:51:23.308432Z",
          "shell.execute_reply": "2022-11-15T15:51:24.451624Z"
        },
        "trusted": true,
        "colab": {
          "base_uri": "https://localhost:8080/",
          "height": 424
        },
        "id": "Myo8PcvbAJxz",
        "outputId": "0ba918f5-9b02-41c5-bde5-5a93808ce618"
      },
      "execution_count": null,
      "outputs": [
        {
          "output_type": "execute_result",
          "data": {
            "text/plain": [
              "      user_id  anime_id  rating\n",
              "0           1        20      -1\n",
              "1           1        24      -1\n",
              "2           1        79      -1\n",
              "3           1       226      -1\n",
              "4           1       241      -1\n",
              "...       ...       ...     ...\n",
              "1995       17     20931       5\n",
              "1996       17     20939      -1\n",
              "1997       17     20965       6\n",
              "1998       17     20973       6\n",
              "1999       17     20977      -1\n",
              "\n",
              "[2000 rows x 3 columns]"
            ],
            "text/html": [
              "\n",
              "  <div id=\"df-39995fed-644f-45f2-880e-fd99a837fd49\">\n",
              "    <div class=\"colab-df-container\">\n",
              "      <div>\n",
              "<style scoped>\n",
              "    .dataframe tbody tr th:only-of-type {\n",
              "        vertical-align: middle;\n",
              "    }\n",
              "\n",
              "    .dataframe tbody tr th {\n",
              "        vertical-align: top;\n",
              "    }\n",
              "\n",
              "    .dataframe thead th {\n",
              "        text-align: right;\n",
              "    }\n",
              "</style>\n",
              "<table border=\"1\" class=\"dataframe\">\n",
              "  <thead>\n",
              "    <tr style=\"text-align: right;\">\n",
              "      <th></th>\n",
              "      <th>user_id</th>\n",
              "      <th>anime_id</th>\n",
              "      <th>rating</th>\n",
              "    </tr>\n",
              "  </thead>\n",
              "  <tbody>\n",
              "    <tr>\n",
              "      <th>0</th>\n",
              "      <td>1</td>\n",
              "      <td>20</td>\n",
              "      <td>-1</td>\n",
              "    </tr>\n",
              "    <tr>\n",
              "      <th>1</th>\n",
              "      <td>1</td>\n",
              "      <td>24</td>\n",
              "      <td>-1</td>\n",
              "    </tr>\n",
              "    <tr>\n",
              "      <th>2</th>\n",
              "      <td>1</td>\n",
              "      <td>79</td>\n",
              "      <td>-1</td>\n",
              "    </tr>\n",
              "    <tr>\n",
              "      <th>3</th>\n",
              "      <td>1</td>\n",
              "      <td>226</td>\n",
              "      <td>-1</td>\n",
              "    </tr>\n",
              "    <tr>\n",
              "      <th>4</th>\n",
              "      <td>1</td>\n",
              "      <td>241</td>\n",
              "      <td>-1</td>\n",
              "    </tr>\n",
              "    <tr>\n",
              "      <th>...</th>\n",
              "      <td>...</td>\n",
              "      <td>...</td>\n",
              "      <td>...</td>\n",
              "    </tr>\n",
              "    <tr>\n",
              "      <th>1995</th>\n",
              "      <td>17</td>\n",
              "      <td>20931</td>\n",
              "      <td>5</td>\n",
              "    </tr>\n",
              "    <tr>\n",
              "      <th>1996</th>\n",
              "      <td>17</td>\n",
              "      <td>20939</td>\n",
              "      <td>-1</td>\n",
              "    </tr>\n",
              "    <tr>\n",
              "      <th>1997</th>\n",
              "      <td>17</td>\n",
              "      <td>20965</td>\n",
              "      <td>6</td>\n",
              "    </tr>\n",
              "    <tr>\n",
              "      <th>1998</th>\n",
              "      <td>17</td>\n",
              "      <td>20973</td>\n",
              "      <td>6</td>\n",
              "    </tr>\n",
              "    <tr>\n",
              "      <th>1999</th>\n",
              "      <td>17</td>\n",
              "      <td>20977</td>\n",
              "      <td>-1</td>\n",
              "    </tr>\n",
              "  </tbody>\n",
              "</table>\n",
              "<p>2000 rows × 3 columns</p>\n",
              "</div>\n",
              "      <button class=\"colab-df-convert\" onclick=\"convertToInteractive('df-39995fed-644f-45f2-880e-fd99a837fd49')\"\n",
              "              title=\"Convert this dataframe to an interactive table.\"\n",
              "              style=\"display:none;\">\n",
              "        \n",
              "  <svg xmlns=\"http://www.w3.org/2000/svg\" height=\"24px\"viewBox=\"0 0 24 24\"\n",
              "       width=\"24px\">\n",
              "    <path d=\"M0 0h24v24H0V0z\" fill=\"none\"/>\n",
              "    <path d=\"M18.56 5.44l.94 2.06.94-2.06 2.06-.94-2.06-.94-.94-2.06-.94 2.06-2.06.94zm-11 1L8.5 8.5l.94-2.06 2.06-.94-2.06-.94L8.5 2.5l-.94 2.06-2.06.94zm10 10l.94 2.06.94-2.06 2.06-.94-2.06-.94-.94-2.06-.94 2.06-2.06.94z\"/><path d=\"M17.41 7.96l-1.37-1.37c-.4-.4-.92-.59-1.43-.59-.52 0-1.04.2-1.43.59L10.3 9.45l-7.72 7.72c-.78.78-.78 2.05 0 2.83L4 21.41c.39.39.9.59 1.41.59.51 0 1.02-.2 1.41-.59l7.78-7.78 2.81-2.81c.8-.78.8-2.07 0-2.86zM5.41 20L4 18.59l7.72-7.72 1.47 1.35L5.41 20z\"/>\n",
              "  </svg>\n",
              "      </button>\n",
              "      \n",
              "  <style>\n",
              "    .colab-df-container {\n",
              "      display:flex;\n",
              "      flex-wrap:wrap;\n",
              "      gap: 12px;\n",
              "    }\n",
              "\n",
              "    .colab-df-convert {\n",
              "      background-color: #E8F0FE;\n",
              "      border: none;\n",
              "      border-radius: 50%;\n",
              "      cursor: pointer;\n",
              "      display: none;\n",
              "      fill: #1967D2;\n",
              "      height: 32px;\n",
              "      padding: 0 0 0 0;\n",
              "      width: 32px;\n",
              "    }\n",
              "\n",
              "    .colab-df-convert:hover {\n",
              "      background-color: #E2EBFA;\n",
              "      box-shadow: 0px 1px 2px rgba(60, 64, 67, 0.3), 0px 1px 3px 1px rgba(60, 64, 67, 0.15);\n",
              "      fill: #174EA6;\n",
              "    }\n",
              "\n",
              "    [theme=dark] .colab-df-convert {\n",
              "      background-color: #3B4455;\n",
              "      fill: #D2E3FC;\n",
              "    }\n",
              "\n",
              "    [theme=dark] .colab-df-convert:hover {\n",
              "      background-color: #434B5C;\n",
              "      box-shadow: 0px 1px 3px 1px rgba(0, 0, 0, 0.15);\n",
              "      filter: drop-shadow(0px 1px 2px rgba(0, 0, 0, 0.3));\n",
              "      fill: #FFFFFF;\n",
              "    }\n",
              "  </style>\n",
              "\n",
              "      <script>\n",
              "        const buttonEl =\n",
              "          document.querySelector('#df-39995fed-644f-45f2-880e-fd99a837fd49 button.colab-df-convert');\n",
              "        buttonEl.style.display =\n",
              "          google.colab.kernel.accessAllowed ? 'block' : 'none';\n",
              "\n",
              "        async function convertToInteractive(key) {\n",
              "          const element = document.querySelector('#df-39995fed-644f-45f2-880e-fd99a837fd49');\n",
              "          const dataTable =\n",
              "            await google.colab.kernel.invokeFunction('convertToInteractive',\n",
              "                                                     [key], {});\n",
              "          if (!dataTable) return;\n",
              "\n",
              "          const docLinkHtml = 'Like what you see? Visit the ' +\n",
              "            '<a target=\"_blank\" href=https://colab.research.google.com/notebooks/data_table.ipynb>data table notebook</a>'\n",
              "            + ' to learn more about interactive tables.';\n",
              "          element.innerHTML = '';\n",
              "          dataTable['output_type'] = 'display_data';\n",
              "          await google.colab.output.renderOutput(dataTable, element);\n",
              "          const docLink = document.createElement('div');\n",
              "          docLink.innerHTML = docLinkHtml;\n",
              "          element.appendChild(docLink);\n",
              "        }\n",
              "      </script>\n",
              "    </div>\n",
              "  </div>\n",
              "  "
            ]
          },
          "metadata": {},
          "execution_count": 23
        }
      ]
    },
    {
      "cell_type": "markdown",
      "source": [
        "**Menghilangkan nilai -1 pada kolom rating**"
      ],
      "metadata": {
        "id": "bPtuN9iSG6f9"
      }
    },
    {
      "cell_type": "code",
      "source": [
        "rating_df[\"rating\"].replace({-1: np.nan}, inplace=True)\n",
        "rating_df.head()"
      ],
      "metadata": {
        "execution": {
          "iopub.status.busy": "2022-11-15T15:51:24.454611Z",
          "iopub.execute_input": "2022-11-15T15:51:24.455017Z",
          "iopub.status.idle": "2022-11-15T15:51:24.467733Z",
          "shell.execute_reply.started": "2022-11-15T15:51:24.454979Z",
          "shell.execute_reply": "2022-11-15T15:51:24.466613Z"
        },
        "trusted": true,
        "colab": {
          "base_uri": "https://localhost:8080/",
          "height": 206
        },
        "id": "eXFMBuQOAJxz",
        "outputId": "74d045e8-1c99-4e9c-9b61-db98d2bcd847"
      },
      "execution_count": null,
      "outputs": [
        {
          "output_type": "execute_result",
          "data": {
            "text/plain": [
              "   user_id  anime_id  rating\n",
              "0        1        20     NaN\n",
              "1        1        24     NaN\n",
              "2        1        79     NaN\n",
              "3        1       226     NaN\n",
              "4        1       241     NaN"
            ],
            "text/html": [
              "\n",
              "  <div id=\"df-157aa39c-0f09-4889-90bc-6205678a7b0f\">\n",
              "    <div class=\"colab-df-container\">\n",
              "      <div>\n",
              "<style scoped>\n",
              "    .dataframe tbody tr th:only-of-type {\n",
              "        vertical-align: middle;\n",
              "    }\n",
              "\n",
              "    .dataframe tbody tr th {\n",
              "        vertical-align: top;\n",
              "    }\n",
              "\n",
              "    .dataframe thead th {\n",
              "        text-align: right;\n",
              "    }\n",
              "</style>\n",
              "<table border=\"1\" class=\"dataframe\">\n",
              "  <thead>\n",
              "    <tr style=\"text-align: right;\">\n",
              "      <th></th>\n",
              "      <th>user_id</th>\n",
              "      <th>anime_id</th>\n",
              "      <th>rating</th>\n",
              "    </tr>\n",
              "  </thead>\n",
              "  <tbody>\n",
              "    <tr>\n",
              "      <th>0</th>\n",
              "      <td>1</td>\n",
              "      <td>20</td>\n",
              "      <td>NaN</td>\n",
              "    </tr>\n",
              "    <tr>\n",
              "      <th>1</th>\n",
              "      <td>1</td>\n",
              "      <td>24</td>\n",
              "      <td>NaN</td>\n",
              "    </tr>\n",
              "    <tr>\n",
              "      <th>2</th>\n",
              "      <td>1</td>\n",
              "      <td>79</td>\n",
              "      <td>NaN</td>\n",
              "    </tr>\n",
              "    <tr>\n",
              "      <th>3</th>\n",
              "      <td>1</td>\n",
              "      <td>226</td>\n",
              "      <td>NaN</td>\n",
              "    </tr>\n",
              "    <tr>\n",
              "      <th>4</th>\n",
              "      <td>1</td>\n",
              "      <td>241</td>\n",
              "      <td>NaN</td>\n",
              "    </tr>\n",
              "  </tbody>\n",
              "</table>\n",
              "</div>\n",
              "      <button class=\"colab-df-convert\" onclick=\"convertToInteractive('df-157aa39c-0f09-4889-90bc-6205678a7b0f')\"\n",
              "              title=\"Convert this dataframe to an interactive table.\"\n",
              "              style=\"display:none;\">\n",
              "        \n",
              "  <svg xmlns=\"http://www.w3.org/2000/svg\" height=\"24px\"viewBox=\"0 0 24 24\"\n",
              "       width=\"24px\">\n",
              "    <path d=\"M0 0h24v24H0V0z\" fill=\"none\"/>\n",
              "    <path d=\"M18.56 5.44l.94 2.06.94-2.06 2.06-.94-2.06-.94-.94-2.06-.94 2.06-2.06.94zm-11 1L8.5 8.5l.94-2.06 2.06-.94-2.06-.94L8.5 2.5l-.94 2.06-2.06.94zm10 10l.94 2.06.94-2.06 2.06-.94-2.06-.94-.94-2.06-.94 2.06-2.06.94z\"/><path d=\"M17.41 7.96l-1.37-1.37c-.4-.4-.92-.59-1.43-.59-.52 0-1.04.2-1.43.59L10.3 9.45l-7.72 7.72c-.78.78-.78 2.05 0 2.83L4 21.41c.39.39.9.59 1.41.59.51 0 1.02-.2 1.41-.59l7.78-7.78 2.81-2.81c.8-.78.8-2.07 0-2.86zM5.41 20L4 18.59l7.72-7.72 1.47 1.35L5.41 20z\"/>\n",
              "  </svg>\n",
              "      </button>\n",
              "      \n",
              "  <style>\n",
              "    .colab-df-container {\n",
              "      display:flex;\n",
              "      flex-wrap:wrap;\n",
              "      gap: 12px;\n",
              "    }\n",
              "\n",
              "    .colab-df-convert {\n",
              "      background-color: #E8F0FE;\n",
              "      border: none;\n",
              "      border-radius: 50%;\n",
              "      cursor: pointer;\n",
              "      display: none;\n",
              "      fill: #1967D2;\n",
              "      height: 32px;\n",
              "      padding: 0 0 0 0;\n",
              "      width: 32px;\n",
              "    }\n",
              "\n",
              "    .colab-df-convert:hover {\n",
              "      background-color: #E2EBFA;\n",
              "      box-shadow: 0px 1px 2px rgba(60, 64, 67, 0.3), 0px 1px 3px 1px rgba(60, 64, 67, 0.15);\n",
              "      fill: #174EA6;\n",
              "    }\n",
              "\n",
              "    [theme=dark] .colab-df-convert {\n",
              "      background-color: #3B4455;\n",
              "      fill: #D2E3FC;\n",
              "    }\n",
              "\n",
              "    [theme=dark] .colab-df-convert:hover {\n",
              "      background-color: #434B5C;\n",
              "      box-shadow: 0px 1px 3px 1px rgba(0, 0, 0, 0.15);\n",
              "      filter: drop-shadow(0px 1px 2px rgba(0, 0, 0, 0.3));\n",
              "      fill: #FFFFFF;\n",
              "    }\n",
              "  </style>\n",
              "\n",
              "      <script>\n",
              "        const buttonEl =\n",
              "          document.querySelector('#df-157aa39c-0f09-4889-90bc-6205678a7b0f button.colab-df-convert');\n",
              "        buttonEl.style.display =\n",
              "          google.colab.kernel.accessAllowed ? 'block' : 'none';\n",
              "\n",
              "        async function convertToInteractive(key) {\n",
              "          const element = document.querySelector('#df-157aa39c-0f09-4889-90bc-6205678a7b0f');\n",
              "          const dataTable =\n",
              "            await google.colab.kernel.invokeFunction('convertToInteractive',\n",
              "                                                     [key], {});\n",
              "          if (!dataTable) return;\n",
              "\n",
              "          const docLinkHtml = 'Like what you see? Visit the ' +\n",
              "            '<a target=\"_blank\" href=https://colab.research.google.com/notebooks/data_table.ipynb>data table notebook</a>'\n",
              "            + ' to learn more about interactive tables.';\n",
              "          element.innerHTML = '';\n",
              "          dataTable['output_type'] = 'display_data';\n",
              "          await google.colab.output.renderOutput(dataTable, element);\n",
              "          const docLink = document.createElement('div');\n",
              "          docLink.innerHTML = docLinkHtml;\n",
              "          element.appendChild(docLink);\n",
              "        }\n",
              "      </script>\n",
              "    </div>\n",
              "  </div>\n",
              "  "
            ]
          },
          "metadata": {},
          "execution_count": 24
        }
      ]
    },
    {
      "cell_type": "markdown",
      "source": [
        "**Menghapus kolom pertama pada table rating**"
      ],
      "metadata": {
        "id": "_Wvnmp4GHApa"
      }
    },
    {
      "cell_type": "code",
      "source": [
        "rating_df = rating_df.dropna(axis = 0, how ='any')\n",
        "rating_df"
      ],
      "metadata": {
        "execution": {
          "iopub.status.busy": "2022-11-15T15:51:24.469704Z",
          "iopub.execute_input": "2022-11-15T15:51:24.470668Z",
          "iopub.status.idle": "2022-11-15T15:51:24.492673Z",
          "shell.execute_reply.started": "2022-11-15T15:51:24.470605Z",
          "shell.execute_reply": "2022-11-15T15:51:24.491678Z"
        },
        "trusted": true,
        "colab": {
          "base_uri": "https://localhost:8080/",
          "height": 424
        },
        "id": "iRpEkA-wAJx0",
        "outputId": "a7f042c4-8847-49d9-e4c6-590f13907671"
      },
      "execution_count": null,
      "outputs": [
        {
          "output_type": "execute_result",
          "data": {
            "text/plain": [
              "      user_id  anime_id  rating\n",
              "47          1      8074    10.0\n",
              "81          1     11617    10.0\n",
              "83          1     11757    10.0\n",
              "101         1     15451    10.0\n",
              "153         2     11771    10.0\n",
              "...       ...       ...     ...\n",
              "1993       17     20899     9.0\n",
              "1994       17     20903     6.0\n",
              "1995       17     20931     5.0\n",
              "1997       17     20965     6.0\n",
              "1998       17     20973     6.0\n",
              "\n",
              "[1452 rows x 3 columns]"
            ],
            "text/html": [
              "\n",
              "  <div id=\"df-dffae975-1abc-44eb-8a5e-4f3d4aa12f19\">\n",
              "    <div class=\"colab-df-container\">\n",
              "      <div>\n",
              "<style scoped>\n",
              "    .dataframe tbody tr th:only-of-type {\n",
              "        vertical-align: middle;\n",
              "    }\n",
              "\n",
              "    .dataframe tbody tr th {\n",
              "        vertical-align: top;\n",
              "    }\n",
              "\n",
              "    .dataframe thead th {\n",
              "        text-align: right;\n",
              "    }\n",
              "</style>\n",
              "<table border=\"1\" class=\"dataframe\">\n",
              "  <thead>\n",
              "    <tr style=\"text-align: right;\">\n",
              "      <th></th>\n",
              "      <th>user_id</th>\n",
              "      <th>anime_id</th>\n",
              "      <th>rating</th>\n",
              "    </tr>\n",
              "  </thead>\n",
              "  <tbody>\n",
              "    <tr>\n",
              "      <th>47</th>\n",
              "      <td>1</td>\n",
              "      <td>8074</td>\n",
              "      <td>10.0</td>\n",
              "    </tr>\n",
              "    <tr>\n",
              "      <th>81</th>\n",
              "      <td>1</td>\n",
              "      <td>11617</td>\n",
              "      <td>10.0</td>\n",
              "    </tr>\n",
              "    <tr>\n",
              "      <th>83</th>\n",
              "      <td>1</td>\n",
              "      <td>11757</td>\n",
              "      <td>10.0</td>\n",
              "    </tr>\n",
              "    <tr>\n",
              "      <th>101</th>\n",
              "      <td>1</td>\n",
              "      <td>15451</td>\n",
              "      <td>10.0</td>\n",
              "    </tr>\n",
              "    <tr>\n",
              "      <th>153</th>\n",
              "      <td>2</td>\n",
              "      <td>11771</td>\n",
              "      <td>10.0</td>\n",
              "    </tr>\n",
              "    <tr>\n",
              "      <th>...</th>\n",
              "      <td>...</td>\n",
              "      <td>...</td>\n",
              "      <td>...</td>\n",
              "    </tr>\n",
              "    <tr>\n",
              "      <th>1993</th>\n",
              "      <td>17</td>\n",
              "      <td>20899</td>\n",
              "      <td>9.0</td>\n",
              "    </tr>\n",
              "    <tr>\n",
              "      <th>1994</th>\n",
              "      <td>17</td>\n",
              "      <td>20903</td>\n",
              "      <td>6.0</td>\n",
              "    </tr>\n",
              "    <tr>\n",
              "      <th>1995</th>\n",
              "      <td>17</td>\n",
              "      <td>20931</td>\n",
              "      <td>5.0</td>\n",
              "    </tr>\n",
              "    <tr>\n",
              "      <th>1997</th>\n",
              "      <td>17</td>\n",
              "      <td>20965</td>\n",
              "      <td>6.0</td>\n",
              "    </tr>\n",
              "    <tr>\n",
              "      <th>1998</th>\n",
              "      <td>17</td>\n",
              "      <td>20973</td>\n",
              "      <td>6.0</td>\n",
              "    </tr>\n",
              "  </tbody>\n",
              "</table>\n",
              "<p>1452 rows × 3 columns</p>\n",
              "</div>\n",
              "      <button class=\"colab-df-convert\" onclick=\"convertToInteractive('df-dffae975-1abc-44eb-8a5e-4f3d4aa12f19')\"\n",
              "              title=\"Convert this dataframe to an interactive table.\"\n",
              "              style=\"display:none;\">\n",
              "        \n",
              "  <svg xmlns=\"http://www.w3.org/2000/svg\" height=\"24px\"viewBox=\"0 0 24 24\"\n",
              "       width=\"24px\">\n",
              "    <path d=\"M0 0h24v24H0V0z\" fill=\"none\"/>\n",
              "    <path d=\"M18.56 5.44l.94 2.06.94-2.06 2.06-.94-2.06-.94-.94-2.06-.94 2.06-2.06.94zm-11 1L8.5 8.5l.94-2.06 2.06-.94-2.06-.94L8.5 2.5l-.94 2.06-2.06.94zm10 10l.94 2.06.94-2.06 2.06-.94-2.06-.94-.94-2.06-.94 2.06-2.06.94z\"/><path d=\"M17.41 7.96l-1.37-1.37c-.4-.4-.92-.59-1.43-.59-.52 0-1.04.2-1.43.59L10.3 9.45l-7.72 7.72c-.78.78-.78 2.05 0 2.83L4 21.41c.39.39.9.59 1.41.59.51 0 1.02-.2 1.41-.59l7.78-7.78 2.81-2.81c.8-.78.8-2.07 0-2.86zM5.41 20L4 18.59l7.72-7.72 1.47 1.35L5.41 20z\"/>\n",
              "  </svg>\n",
              "      </button>\n",
              "      \n",
              "  <style>\n",
              "    .colab-df-container {\n",
              "      display:flex;\n",
              "      flex-wrap:wrap;\n",
              "      gap: 12px;\n",
              "    }\n",
              "\n",
              "    .colab-df-convert {\n",
              "      background-color: #E8F0FE;\n",
              "      border: none;\n",
              "      border-radius: 50%;\n",
              "      cursor: pointer;\n",
              "      display: none;\n",
              "      fill: #1967D2;\n",
              "      height: 32px;\n",
              "      padding: 0 0 0 0;\n",
              "      width: 32px;\n",
              "    }\n",
              "\n",
              "    .colab-df-convert:hover {\n",
              "      background-color: #E2EBFA;\n",
              "      box-shadow: 0px 1px 2px rgba(60, 64, 67, 0.3), 0px 1px 3px 1px rgba(60, 64, 67, 0.15);\n",
              "      fill: #174EA6;\n",
              "    }\n",
              "\n",
              "    [theme=dark] .colab-df-convert {\n",
              "      background-color: #3B4455;\n",
              "      fill: #D2E3FC;\n",
              "    }\n",
              "\n",
              "    [theme=dark] .colab-df-convert:hover {\n",
              "      background-color: #434B5C;\n",
              "      box-shadow: 0px 1px 3px 1px rgba(0, 0, 0, 0.15);\n",
              "      filter: drop-shadow(0px 1px 2px rgba(0, 0, 0, 0.3));\n",
              "      fill: #FFFFFF;\n",
              "    }\n",
              "  </style>\n",
              "\n",
              "      <script>\n",
              "        const buttonEl =\n",
              "          document.querySelector('#df-dffae975-1abc-44eb-8a5e-4f3d4aa12f19 button.colab-df-convert');\n",
              "        buttonEl.style.display =\n",
              "          google.colab.kernel.accessAllowed ? 'block' : 'none';\n",
              "\n",
              "        async function convertToInteractive(key) {\n",
              "          const element = document.querySelector('#df-dffae975-1abc-44eb-8a5e-4f3d4aa12f19');\n",
              "          const dataTable =\n",
              "            await google.colab.kernel.invokeFunction('convertToInteractive',\n",
              "                                                     [key], {});\n",
              "          if (!dataTable) return;\n",
              "\n",
              "          const docLinkHtml = 'Like what you see? Visit the ' +\n",
              "            '<a target=\"_blank\" href=https://colab.research.google.com/notebooks/data_table.ipynb>data table notebook</a>'\n",
              "            + ' to learn more about interactive tables.';\n",
              "          element.innerHTML = '';\n",
              "          dataTable['output_type'] = 'display_data';\n",
              "          await google.colab.output.renderOutput(dataTable, element);\n",
              "          const docLink = document.createElement('div');\n",
              "          docLink.innerHTML = docLinkHtml;\n",
              "          element.appendChild(docLink);\n",
              "        }\n",
              "      </script>\n",
              "    </div>\n",
              "  </div>\n",
              "  "
            ]
          },
          "metadata": {},
          "execution_count": 25
        }
      ]
    },
    {
      "cell_type": "code",
      "source": [
        "rating_count = rating_df['rating'].value_counts().sort_index()\n",
        "\n",
        "sns.barplot(x=rating_count.index,\n",
        "            y=rating_count.values,\n",
        "            palette='magma').set_title('Comparison of the number of ratings from 1 to 10');"
      ],
      "metadata": {
        "colab": {
          "base_uri": "https://localhost:8080/",
          "height": 281
        },
        "id": "qgRy8V2SFVFe",
        "outputId": "cad70307-9853-4063-cf95-056643749a6c"
      },
      "execution_count": null,
      "outputs": [
        {
          "output_type": "display_data",
          "data": {
            "text/plain": [
              "<Figure size 432x288 with 1 Axes>"
            ],
            "image/png": "[encoded data removed]"
          },
          "metadata": {
            "needs_background": "light"
          }
        }
      ]
    },
    {
      "cell_type": "markdown",
      "source": [
        "Rating 7 paling banyak diberikan pada dataset ini"
      ],
      "metadata": {
        "id": "bzgUPRiZPQiu"
      }
    },
    {
      "cell_type": "markdown",
      "source": [
        "### **Content Based** "
      ],
      "metadata": {
        "id": "CkK7HFReO9MB"
      }
    },
    {
      "cell_type": "markdown",
      "source": [
        "**Data Preparation**\n"
      ],
      "metadata": {
        "id": "pLksv_MlHLCa"
      }
    },
    {
      "cell_type": "code",
      "source": [
        "tf = TfidfVectorizer()\n",
        "tf.fit(anime_df['genre']) \n",
        "tf.get_feature_names_out()"
      ],
      "metadata": {
        "execution": {
          "iopub.status.busy": "2022-11-15T15:51:24.494091Z",
          "iopub.execute_input": "2022-11-15T15:51:24.494431Z",
          "iopub.status.idle": "2022-11-15T15:51:24.577161Z",
          "shell.execute_reply.started": "2022-11-15T15:51:24.494402Z",
          "shell.execute_reply": "2022-11-15T15:51:24.575688Z"
        },
        "trusted": true,
        "colab": {
          "base_uri": "https://localhost:8080/"
        },
        "id": "JLXPu2TFAJx0",
        "outputId": "b500afaa-66ba-4c50-b990-2b0e4b6036f7"
      },
      "execution_count": null,
      "outputs": [
        {
          "output_type": "execute_result",
          "data": {
            "text/plain": [
              "array(['action', 'adventure', 'ai', 'arts', 'cars', 'comedy', 'dementia',\n",
              "       'demons', 'drama', 'ecchi', 'fantasy', 'fi', 'game', 'harem',\n",
              "       'hentai', 'historical', 'horror', 'josei', 'kids', 'life', 'magic',\n",
              "       'martial', 'mecha', 'military', 'music', 'mystery', 'of', 'parody',\n",
              "       'police', 'power', 'psychological', 'romance', 'samurai', 'school',\n",
              "       'sci', 'seinen', 'shoujo', 'shounen', 'slice', 'space', 'sports',\n",
              "       'super', 'supernatural', 'thriller', 'vampire', 'yaoi', 'yuri'],\n",
              "      dtype=object)"
            ]
          },
          "metadata": {},
          "execution_count": 27
        }
      ]
    },
    {
      "cell_type": "markdown",
      "source": [
        "Tfid Vectorizer"
      ],
      "metadata": {
        "id": "eQCJII02HtKt"
      }
    },
    {
      "cell_type": "code",
      "source": [
        "tfidf_matrix = tf.fit_transform(anime_df['genre']) \n",
        "\n",
        "tfidf_matrix.shape"
      ],
      "metadata": {
        "execution": {
          "iopub.status.busy": "2022-11-15T15:51:24.578825Z",
          "iopub.execute_input": "2022-11-15T15:51:24.579788Z",
          "iopub.status.idle": "2022-11-15T15:51:24.664582Z",
          "shell.execute_reply.started": "2022-11-15T15:51:24.579747Z",
          "shell.execute_reply": "2022-11-15T15:51:24.663591Z"
        },
        "trusted": true,
        "colab": {
          "base_uri": "https://localhost:8080/"
        },
        "id": "yZHRzertAJx0",
        "outputId": "91ce6bc8-f0c1-4fa8-f856-3ea2296dcc0d"
      },
      "execution_count": null,
      "outputs": [
        {
          "output_type": "execute_result",
          "data": {
            "text/plain": [
              "(12017, 47)"
            ]
          },
          "metadata": {},
          "execution_count": 28
        }
      ]
    },
    {
      "cell_type": "code",
      "source": [
        "tfidf_matrix.todense()"
      ],
      "metadata": {
        "execution": {
          "iopub.status.busy": "2022-11-15T15:51:24.666205Z",
          "iopub.execute_input": "2022-11-15T15:51:24.666622Z",
          "iopub.status.idle": "2022-11-15T15:51:24.674908Z",
          "shell.execute_reply.started": "2022-11-15T15:51:24.666583Z",
          "shell.execute_reply": "2022-11-15T15:51:24.673860Z"
        },
        "trusted": true,
        "colab": {
          "base_uri": "https://localhost:8080/"
        },
        "id": "8VEzc1ICAJx1",
        "outputId": "f412c3f8-056a-4c9e-d5c7-5bc3046828d6"
      },
      "execution_count": null,
      "outputs": [
        {
          "output_type": "execute_result",
          "data": {
            "text/plain": [
              "matrix([[0.        , 0.        , 0.        , ..., 0.        , 0.        ,\n",
              "         0.        ],\n",
              "        [0.29498527, 0.3162867 , 0.        , ..., 0.        , 0.        ,\n",
              "         0.        ],\n",
              "        [0.2516182 , 0.        , 0.        , ..., 0.        , 0.        ,\n",
              "         0.        ],\n",
              "        ...,\n",
              "        [0.        , 0.        , 0.        , ..., 0.        , 0.        ,\n",
              "         0.        ],\n",
              "        [0.        , 0.        , 0.        , ..., 0.        , 0.        ,\n",
              "         0.        ],\n",
              "        [0.        , 0.        , 0.        , ..., 0.        , 0.        ,\n",
              "         0.        ]])"
            ]
          },
          "metadata": {},
          "execution_count": 29
        }
      ]
    },
    {
      "cell_type": "code",
      "source": [
        "pd.DataFrame(\n",
        "    tfidf_matrix.todense(), \n",
        "    columns=tf.get_feature_names_out(),\n",
        "    index=anime_df.name\n",
        ").sample(22, axis=1).sample(10, axis=0)"
      ],
      "metadata": {
        "execution": {
          "iopub.status.busy": "2022-11-15T15:51:24.676545Z",
          "iopub.execute_input": "2022-11-15T15:51:24.677346Z",
          "iopub.status.idle": "2022-11-15T15:51:24.719754Z",
          "shell.execute_reply.started": "2022-11-15T15:51:24.677307Z",
          "shell.execute_reply": "2022-11-15T15:51:24.718650Z"
        },
        "trusted": true,
        "colab": {
          "base_uri": "https://localhost:8080/",
          "height": 991
        },
        "id": "mS-0Q_R0AJx1",
        "outputId": "c17a7de1-2595-43e9-c16d-e1680b966c2b"
      },
      "execution_count": null,
      "outputs": [
        {
          "output_type": "execute_result",
          "data": {
            "text/plain": [
              "                                        magic        of    comedy  martial  \\\n",
              "name                                                                         \n",
              "Zou no Senaka: Tabidatsu Hi               0.0  0.435290  0.000000      0.0   \n",
              "Battle Spirits Shinnen Special            0.0  0.000000  0.000000      0.0   \n",
              "Gattai Robot Atranger                     0.0  0.000000  0.000000      0.0   \n",
              "Nat-chan no Akai Tebukuro                 0.0  0.000000  0.000000      0.0   \n",
              "Blood-C: None-None Gekijou                0.0  0.000000  0.408436      0.0   \n",
              "Esper Mami Special: My Angel Mami-chan    0.0  0.000000  0.270890      0.0   \n",
              "Ukkari Pénélope OVA                       0.0  0.000000  0.000000      0.0   \n",
              "Cooking Papa Christmas Special            0.0  0.545968  0.325202      0.0   \n",
              "Seishoujo Kantai Virgin Fleet             0.0  0.000000  0.000000      0.0   \n",
              "Nangoku Shounen Papuwa-kun                0.0  0.000000  0.445745      0.0   \n",
              "\n",
              "                                          parody  psychological  yaoi  \\\n",
              "name                                                                    \n",
              "Zou no Senaka: Tabidatsu Hi             0.000000            0.0   0.0   \n",
              "Battle Spirits Shinnen Special          0.000000            0.0   0.0   \n",
              "Gattai Robot Atranger                   0.000000            0.0   0.0   \n",
              "Nat-chan no Akai Tebukuro               0.000000            0.0   0.0   \n",
              "Blood-C: None-None Gekijou              0.912787            0.0   0.0   \n",
              "Esper Mami Special: My Angel Mami-chan  0.000000            0.0   0.0   \n",
              "Ukkari Pénélope OVA                     0.000000            0.0   0.0   \n",
              "Cooking Papa Christmas Special          0.000000            0.0   0.0   \n",
              "Seishoujo Kantai Virgin Fleet           0.000000            0.0   0.0   \n",
              "Nangoku Shounen Papuwa-kun              0.000000            0.0   0.0   \n",
              "\n",
              "                                           super   fantasy      kids  ...  \\\n",
              "name                                                                  ...   \n",
              "Zou no Senaka: Tabidatsu Hi             0.000000  0.000000  0.000000  ...   \n",
              "Battle Spirits Shinnen Special          0.000000  0.000000  0.463544  ...   \n",
              "Gattai Robot Atranger                   0.000000  0.000000  0.000000  ...   \n",
              "Nat-chan no Akai Tebukuro               0.000000  0.000000  0.630845  ...   \n",
              "Blood-C: None-None Gekijou              0.000000  0.000000  0.000000  ...   \n",
              "Esper Mami Special: My Angel Mami-chan  0.589922  0.000000  0.000000  ...   \n",
              "Ukkari Pénélope OVA                     0.000000  1.000000  0.000000  ...   \n",
              "Cooking Papa Christmas Special          0.000000  0.000000  0.000000  ...   \n",
              "Seishoujo Kantai Virgin Fleet           0.000000  0.369191  0.000000  ...   \n",
              "Nangoku Shounen Papuwa-kun              0.000000  0.000000  0.000000  ...   \n",
              "\n",
              "                                          action  adventure  music  cars  \\\n",
              "name                                                                       \n",
              "Zou no Senaka: Tabidatsu Hi             0.000000   0.000000    0.0   0.0   \n",
              "Battle Spirits Shinnen Special          0.379178   0.000000    0.0   0.0   \n",
              "Gattai Robot Atranger                   0.000000   0.000000    0.0   0.0   \n",
              "Nat-chan no Akai Tebukuro               0.000000   0.000000    0.0   0.0   \n",
              "Blood-C: None-None Gekijou              0.000000   0.000000    0.0   0.0   \n",
              "Esper Mami Special: My Angel Mami-chan  0.000000   0.000000    0.0   0.0   \n",
              "Ukkari Pénélope OVA                     0.000000   0.000000    0.0   0.0   \n",
              "Cooking Papa Christmas Special          0.000000   0.000000    0.0   0.0   \n",
              "Seishoujo Kantai Virgin Fleet           0.000000   0.000000    0.0   0.0   \n",
              "Nangoku Shounen Papuwa-kun              0.000000   0.600078    0.0   0.0   \n",
              "\n",
              "                                            game  yuri  hentai  mystery  \\\n",
              "name                                                                      \n",
              "Zou no Senaka: Tabidatsu Hi             0.000000   0.0     0.0      0.0   \n",
              "Battle Spirits Shinnen Special          0.800844   0.0     0.0      0.0   \n",
              "Gattai Robot Atranger                   0.000000   0.0     0.0      0.0   \n",
              "Nat-chan no Akai Tebukuro               0.000000   0.0     0.0      0.0   \n",
              "Blood-C: None-None Gekijou              0.000000   0.0     0.0      0.0   \n",
              "Esper Mami Special: My Angel Mami-chan  0.000000   0.0     0.0      0.0   \n",
              "Ukkari Pénélope OVA                     0.000000   0.0     0.0      0.0   \n",
              "Cooking Papa Christmas Special          0.000000   0.0     0.0      0.0   \n",
              "Seishoujo Kantai Virgin Fleet           0.000000   0.0     0.0      0.0   \n",
              "Nangoku Shounen Papuwa-kun              0.000000   0.0     0.0      0.0   \n",
              "\n",
              "                                        mecha     slice  \n",
              "name                                                     \n",
              "Zou no Senaka: Tabidatsu Hi               0.0  0.435290  \n",
              "Battle Spirits Shinnen Special            0.0  0.000000  \n",
              "Gattai Robot Atranger                     1.0  0.000000  \n",
              "Nat-chan no Akai Tebukuro                 0.0  0.000000  \n",
              "Blood-C: None-None Gekijou                0.0  0.000000  \n",
              "Esper Mami Special: My Angel Mami-chan    0.0  0.000000  \n",
              "Ukkari Pénélope OVA                       0.0  0.000000  \n",
              "Cooking Papa Christmas Special            0.0  0.545968  \n",
              "Seishoujo Kantai Virgin Fleet             0.0  0.000000  \n",
              "Nangoku Shounen Papuwa-kun                0.0  0.000000  \n",
              "\n",
              "[10 rows x 22 columns]"
            ],
            "text/html": [
              "\n",
              "  <div id=\"df-18a7b42c-0f15-4cec-a39e-a6e099f54d01\">\n",
              "    <div class=\"colab-df-container\">\n",
              "      <div>\n",
              "<style scoped>\n",
              "    .dataframe tbody tr th:only-of-type {\n",
              "        vertical-align: middle;\n",
              "    }\n",
              "\n",
              "    .dataframe tbody tr th {\n",
              "        vertical-align: top;\n",
              "    }\n",
              "\n",
              "    .dataframe thead th {\n",
              "        text-align: right;\n",
              "    }\n",
              "</style>\n",
              "<table border=\"1\" class=\"dataframe\">\n",
              "  <thead>\n",
              "    <tr style=\"text-align: right;\">\n",
              "      <th></th>\n",
              "      <th>magic</th>\n",
              "      <th>of</th>\n",
              "      <th>comedy</th>\n",
              "      <th>martial</th>\n",
              "      <th>parody</th>\n",
              "      <th>psychological</th>\n",
              "      <th>yaoi</th>\n",
              "      <th>super</th>\n",
              "      <th>fantasy</th>\n",
              "      <th>kids</th>\n",
              "      <th>...</th>\n",
              "      <th>action</th>\n",
              "      <th>adventure</th>\n",
              "      <th>music</th>\n",
              "      <th>cars</th>\n",
              "      <th>game</th>\n",
              "      <th>yuri</th>\n",
              "      <th>hentai</th>\n",
              "      <th>mystery</th>\n",
              "      <th>mecha</th>\n",
              "      <th>slice</th>\n",
              "    </tr>\n",
              "    <tr>\n",
              "      <th>name</th>\n",
              "      <th></th>\n",
              "      <th></th>\n",
              "      <th></th>\n",
              "      <th></th>\n",
              "      <th></th>\n",
              "      <th></th>\n",
              "      <th></th>\n",
              "      <th></th>\n",
              "      <th></th>\n",
              "      <th></th>\n",
              "      <th></th>\n",
              "      <th></th>\n",
              "      <th></th>\n",
              "      <th></th>\n",
              "      <th></th>\n",
              "      <th></th>\n",
              "      <th></th>\n",
              "      <th></th>\n",
              "      <th></th>\n",
              "      <th></th>\n",
              "      <th></th>\n",
              "    </tr>\n",
              "  </thead>\n",
              "  <tbody>\n",
              "    <tr>\n",
              "      <th>Zou no Senaka: Tabidatsu Hi</th>\n",
              "      <td>0.0</td>\n",
              "      <td>0.435290</td>\n",
              "      <td>0.000000</td>\n",
              "      <td>0.0</td>\n",
              "      <td>0.000000</td>\n",
              "      <td>0.0</td>\n",
              "      <td>0.0</td>\n",
              "      <td>0.000000</td>\n",
              "      <td>0.000000</td>\n",
              "      <td>0.000000</td>\n",
              "      <td>...</td>\n",
              "      <td>0.000000</td>\n",
              "      <td>0.000000</td>\n",
              "      <td>0.0</td>\n",
              "      <td>0.0</td>\n",
              "      <td>0.000000</td>\n",
              "      <td>0.0</td>\n",
              "      <td>0.0</td>\n",
              "      <td>0.0</td>\n",
              "      <td>0.0</td>\n",
              "      <td>0.435290</td>\n",
              "    </tr>\n",
              "    <tr>\n",
              "      <th>Battle Spirits Shinnen Special</th>\n",
              "      <td>0.0</td>\n",
              "      <td>0.000000</td>\n",
              "      <td>0.000000</td>\n",
              "      <td>0.0</td>\n",
              "      <td>0.000000</td>\n",
              "      <td>0.0</td>\n",
              "      <td>0.0</td>\n",
              "      <td>0.000000</td>\n",
              "      <td>0.000000</td>\n",
              "      <td>0.463544</td>\n",
              "      <td>...</td>\n",
              "      <td>0.379178</td>\n",
              "      <td>0.000000</td>\n",
              "      <td>0.0</td>\n",
              "      <td>0.0</td>\n",
              "      <td>0.800844</td>\n",
              "      <td>0.0</td>\n",
              "      <td>0.0</td>\n",
              "      <td>0.0</td>\n",
              "      <td>0.0</td>\n",
              "      <td>0.000000</td>\n",
              "    </tr>\n",
              "    <tr>\n",
              "      <th>Gattai Robot Atranger</th>\n",
              "      <td>0.0</td>\n",
              "      <td>0.000000</td>\n",
              "      <td>0.000000</td>\n",
              "      <td>0.0</td>\n",
              "      <td>0.000000</td>\n",
              "      <td>0.0</td>\n",
              "      <td>0.0</td>\n",
              "      <td>0.000000</td>\n",
              "      <td>0.000000</td>\n",
              "      <td>0.000000</td>\n",
              "      <td>...</td>\n",
              "      <td>0.000000</td>\n",
              "      <td>0.000000</td>\n",
              "      <td>0.0</td>\n",
              "      <td>0.0</td>\n",
              "      <td>0.000000</td>\n",
              "      <td>0.0</td>\n",
              "      <td>0.0</td>\n",
              "      <td>0.0</td>\n",
              "      <td>1.0</td>\n",
              "      <td>0.000000</td>\n",
              "    </tr>\n",
              "    <tr>\n",
              "      <th>Nat-chan no Akai Tebukuro</th>\n",
              "      <td>0.0</td>\n",
              "      <td>0.000000</td>\n",
              "      <td>0.000000</td>\n",
              "      <td>0.0</td>\n",
              "      <td>0.000000</td>\n",
              "      <td>0.0</td>\n",
              "      <td>0.0</td>\n",
              "      <td>0.000000</td>\n",
              "      <td>0.000000</td>\n",
              "      <td>0.630845</td>\n",
              "      <td>...</td>\n",
              "      <td>0.000000</td>\n",
              "      <td>0.000000</td>\n",
              "      <td>0.0</td>\n",
              "      <td>0.0</td>\n",
              "      <td>0.000000</td>\n",
              "      <td>0.0</td>\n",
              "      <td>0.0</td>\n",
              "      <td>0.0</td>\n",
              "      <td>0.0</td>\n",
              "      <td>0.000000</td>\n",
              "    </tr>\n",
              "    <tr>\n",
              "      <th>Blood-C: None-None Gekijou</th>\n",
              "      <td>0.0</td>\n",
              "      <td>0.000000</td>\n",
              "      <td>0.408436</td>\n",
              "      <td>0.0</td>\n",
              "      <td>0.912787</td>\n",
              "      <td>0.0</td>\n",
              "      <td>0.0</td>\n",
              "      <td>0.000000</td>\n",
              "      <td>0.000000</td>\n",
              "      <td>0.000000</td>\n",
              "      <td>...</td>\n",
              "      <td>0.000000</td>\n",
              "      <td>0.000000</td>\n",
              "      <td>0.0</td>\n",
              "      <td>0.0</td>\n",
              "      <td>0.000000</td>\n",
              "      <td>0.0</td>\n",
              "      <td>0.0</td>\n",
              "      <td>0.0</td>\n",
              "      <td>0.0</td>\n",
              "      <td>0.000000</td>\n",
              "    </tr>\n",
              "    <tr>\n",
              "      <th>Esper Mami Special: My Angel Mami-chan</th>\n",
              "      <td>0.0</td>\n",
              "      <td>0.000000</td>\n",
              "      <td>0.270890</td>\n",
              "      <td>0.0</td>\n",
              "      <td>0.000000</td>\n",
              "      <td>0.0</td>\n",
              "      <td>0.0</td>\n",
              "      <td>0.589922</td>\n",
              "      <td>0.000000</td>\n",
              "      <td>0.000000</td>\n",
              "      <td>...</td>\n",
              "      <td>0.000000</td>\n",
              "      <td>0.000000</td>\n",
              "      <td>0.0</td>\n",
              "      <td>0.0</td>\n",
              "      <td>0.000000</td>\n",
              "      <td>0.0</td>\n",
              "      <td>0.0</td>\n",
              "      <td>0.0</td>\n",
              "      <td>0.0</td>\n",
              "      <td>0.000000</td>\n",
              "    </tr>\n",
              "    <tr>\n",
              "      <th>Ukkari Pénélope OVA</th>\n",
              "      <td>0.0</td>\n",
              "      <td>0.000000</td>\n",
              "      <td>0.000000</td>\n",
              "      <td>0.0</td>\n",
              "      <td>0.000000</td>\n",
              "      <td>0.0</td>\n",
              "      <td>0.0</td>\n",
              "      <td>0.000000</td>\n",
              "      <td>1.000000</td>\n",
              "      <td>0.000000</td>\n",
              "      <td>...</td>\n",
              "      <td>0.000000</td>\n",
              "      <td>0.000000</td>\n",
              "      <td>0.0</td>\n",
              "      <td>0.0</td>\n",
              "      <td>0.000000</td>\n",
              "      <td>0.0</td>\n",
              "      <td>0.0</td>\n",
              "      <td>0.0</td>\n",
              "      <td>0.0</td>\n",
              "      <td>0.000000</td>\n",
              "    </tr>\n",
              "    <tr>\n",
              "      <th>Cooking Papa Christmas Special</th>\n",
              "      <td>0.0</td>\n",
              "      <td>0.545968</td>\n",
              "      <td>0.325202</td>\n",
              "      <td>0.0</td>\n",
              "      <td>0.000000</td>\n",
              "      <td>0.0</td>\n",
              "      <td>0.0</td>\n",
              "      <td>0.000000</td>\n",
              "      <td>0.000000</td>\n",
              "      <td>0.000000</td>\n",
              "      <td>...</td>\n",
              "      <td>0.000000</td>\n",
              "      <td>0.000000</td>\n",
              "      <td>0.0</td>\n",
              "      <td>0.0</td>\n",
              "      <td>0.000000</td>\n",
              "      <td>0.0</td>\n",
              "      <td>0.0</td>\n",
              "      <td>0.0</td>\n",
              "      <td>0.0</td>\n",
              "      <td>0.545968</td>\n",
              "    </tr>\n",
              "    <tr>\n",
              "      <th>Seishoujo Kantai Virgin Fleet</th>\n",
              "      <td>0.0</td>\n",
              "      <td>0.000000</td>\n",
              "      <td>0.000000</td>\n",
              "      <td>0.0</td>\n",
              "      <td>0.000000</td>\n",
              "      <td>0.0</td>\n",
              "      <td>0.0</td>\n",
              "      <td>0.000000</td>\n",
              "      <td>0.369191</td>\n",
              "      <td>0.000000</td>\n",
              "      <td>...</td>\n",
              "      <td>0.000000</td>\n",
              "      <td>0.000000</td>\n",
              "      <td>0.0</td>\n",
              "      <td>0.0</td>\n",
              "      <td>0.000000</td>\n",
              "      <td>0.0</td>\n",
              "      <td>0.0</td>\n",
              "      <td>0.0</td>\n",
              "      <td>0.0</td>\n",
              "      <td>0.000000</td>\n",
              "    </tr>\n",
              "    <tr>\n",
              "      <th>Nangoku Shounen Papuwa-kun</th>\n",
              "      <td>0.0</td>\n",
              "      <td>0.000000</td>\n",
              "      <td>0.445745</td>\n",
              "      <td>0.0</td>\n",
              "      <td>0.000000</td>\n",
              "      <td>0.0</td>\n",
              "      <td>0.0</td>\n",
              "      <td>0.000000</td>\n",
              "      <td>0.000000</td>\n",
              "      <td>0.000000</td>\n",
              "      <td>...</td>\n",
              "      <td>0.000000</td>\n",
              "      <td>0.600078</td>\n",
              "      <td>0.0</td>\n",
              "      <td>0.0</td>\n",
              "      <td>0.000000</td>\n",
              "      <td>0.0</td>\n",
              "      <td>0.0</td>\n",
              "      <td>0.0</td>\n",
              "      <td>0.0</td>\n",
              "      <td>0.000000</td>\n",
              "    </tr>\n",
              "  </tbody>\n",
              "</table>\n",
              "<p>10 rows × 22 columns</p>\n",
              "</div>\n",
              "      <button class=\"colab-df-convert\" onclick=\"convertToInteractive('df-18a7b42c-0f15-4cec-a39e-a6e099f54d01')\"\n",
              "              title=\"Convert this dataframe to an interactive table.\"\n",
              "              style=\"display:none;\">\n",
              "        \n",
              "  <svg xmlns=\"http://www.w3.org/2000/svg\" height=\"24px\"viewBox=\"0 0 24 24\"\n",
              "       width=\"24px\">\n",
              "    <path d=\"M0 0h24v24H0V0z\" fill=\"none\"/>\n",
              "    <path d=\"M18.56 5.44l.94 2.06.94-2.06 2.06-.94-2.06-.94-.94-2.06-.94 2.06-2.06.94zm-11 1L8.5 8.5l.94-2.06 2.06-.94-2.06-.94L8.5 2.5l-.94 2.06-2.06.94zm10 10l.94 2.06.94-2.06 2.06-.94-2.06-.94-.94-2.06-.94 2.06-2.06.94z\"/><path d=\"M17.41 7.96l-1.37-1.37c-.4-.4-.92-.59-1.43-.59-.52 0-1.04.2-1.43.59L10.3 9.45l-7.72 7.72c-.78.78-.78 2.05 0 2.83L4 21.41c.39.39.9.59 1.41.59.51 0 1.02-.2 1.41-.59l7.78-7.78 2.81-2.81c.8-.78.8-2.07 0-2.86zM5.41 20L4 18.59l7.72-7.72 1.47 1.35L5.41 20z\"/>\n",
              "  </svg>\n",
              "      </button>\n",
              "      \n",
              "  <style>\n",
              "    .colab-df-container {\n",
              "      display:flex;\n",
              "      flex-wrap:wrap;\n",
              "      gap: 12px;\n",
              "    }\n",
              "\n",
              "    .colab-df-convert {\n",
              "      background-color: #E8F0FE;\n",
              "      border: none;\n",
              "      border-radius: 50%;\n",
              "      cursor: pointer;\n",
              "      display: none;\n",
              "      fill: #1967D2;\n",
              "      height: 32px;\n",
              "      padding: 0 0 0 0;\n",
              "      width: 32px;\n",
              "    }\n",
              "\n",
              "    .colab-df-convert:hover {\n",
              "      background-color: #E2EBFA;\n",
              "      box-shadow: 0px 1px 2px rgba(60, 64, 67, 0.3), 0px 1px 3px 1px rgba(60, 64, 67, 0.15);\n",
              "      fill: #174EA6;\n",
              "    }\n",
              "\n",
              "    [theme=dark] .colab-df-convert {\n",
              "      background-color: #3B4455;\n",
              "      fill: #D2E3FC;\n",
              "    }\n",
              "\n",
              "    [theme=dark] .colab-df-convert:hover {\n",
              "      background-color: #434B5C;\n",
              "      box-shadow: 0px 1px 3px 1px rgba(0, 0, 0, 0.15);\n",
              "      filter: drop-shadow(0px 1px 2px rgba(0, 0, 0, 0.3));\n",
              "      fill: #FFFFFF;\n",
              "    }\n",
              "  </style>\n",
              "\n",
              "      <script>\n",
              "        const buttonEl =\n",
              "          document.querySelector('#df-18a7b42c-0f15-4cec-a39e-a6e099f54d01 button.colab-df-convert');\n",
              "        buttonEl.style.display =\n",
              "          google.colab.kernel.accessAllowed ? 'block' : 'none';\n",
              "\n",
              "        async function convertToInteractive(key) {\n",
              "          const element = document.querySelector('#df-18a7b42c-0f15-4cec-a39e-a6e099f54d01');\n",
              "          const dataTable =\n",
              "            await google.colab.kernel.invokeFunction('convertToInteractive',\n",
              "                                                     [key], {});\n",
              "          if (!dataTable) return;\n",
              "\n",
              "          const docLinkHtml = 'Like what you see? Visit the ' +\n",
              "            '<a target=\"_blank\" href=https://colab.research.google.com/notebooks/data_table.ipynb>data table notebook</a>'\n",
              "            + ' to learn more about interactive tables.';\n",
              "          element.innerHTML = '';\n",
              "          dataTable['output_type'] = 'display_data';\n",
              "          await google.colab.output.renderOutput(dataTable, element);\n",
              "          const docLink = document.createElement('div');\n",
              "          docLink.innerHTML = docLinkHtml;\n",
              "          element.appendChild(docLink);\n",
              "        }\n",
              "      </script>\n",
              "    </div>\n",
              "  </div>\n",
              "  "
            ]
          },
          "metadata": {},
          "execution_count": 30
        }
      ]
    },
    {
      "cell_type": "markdown",
      "source": [
        "**Cosine Similarity**"
      ],
      "metadata": {
        "id": "mJ82zifyPknq"
      }
    },
    {
      "cell_type": "markdown",
      "source": [
        "mencari kemiripan antar item"
      ],
      "metadata": {
        "id": "wTUC7VZ7Hx-Q"
      }
    },
    {
      "cell_type": "markdown",
      "source": [
        "# **Transformasi data kedalam bentuk matriks**\n"
      ],
      "metadata": {
        "id": "G6CqDG1cH7qf"
      }
    },
    {
      "cell_type": "code",
      "source": [
        "from sklearn.metrics.pairwise import cosine_similarity\n",
        "\n",
        "cosine_sim = cosine_similarity(tfidf_matrix) \n",
        "cosine_sim"
      ],
      "metadata": {
        "execution": {
          "iopub.status.busy": "2022-11-15T15:51:24.721334Z",
          "iopub.execute_input": "2022-11-15T15:51:24.721999Z",
          "iopub.status.idle": "2022-11-15T15:51:27.227818Z",
          "shell.execute_reply.started": "2022-11-15T15:51:24.721959Z",
          "shell.execute_reply": "2022-11-15T15:51:27.226661Z"
        },
        "trusted": true,
        "colab": {
          "base_uri": "https://localhost:8080/"
        },
        "id": "y2UFjTu8AJx2",
        "outputId": "dbcf4351-50e5-4a1c-d622-fe89b924fc53"
      },
      "execution_count": null,
      "outputs": [
        {
          "output_type": "execute_result",
          "data": {
            "text/plain": [
              "array([[1.        , 0.14715318, 0.        , ..., 0.        , 0.        ,\n",
              "        0.        ],\n",
              "       [0.14715318, 1.        , 0.17877808, ..., 0.        , 0.        ,\n",
              "        0.        ],\n",
              "       [0.        , 0.17877808, 1.        , ..., 0.        , 0.        ,\n",
              "        0.        ],\n",
              "       ...,\n",
              "       [0.        , 0.        , 0.        , ..., 1.        , 1.        ,\n",
              "        1.        ],\n",
              "       [0.        , 0.        , 0.        , ..., 1.        , 1.        ,\n",
              "        1.        ],\n",
              "       [0.        , 0.        , 0.        , ..., 1.        , 1.        ,\n",
              "        1.        ]])"
            ]
          },
          "metadata": {},
          "execution_count": 31
        }
      ]
    },
    {
      "cell_type": "code",
      "source": [
        "cosine_sim_df = pd.DataFrame(cosine_sim, index=anime_df['name'], columns=anime_df['name'])\n",
        "print('Shape:', cosine_sim_df.shape)\n",
        "\n",
        "cosine_sim_df.sample(5, axis=1).sample(10, axis=0)"
      ],
      "metadata": {
        "execution": {
          "iopub.status.busy": "2022-11-15T15:51:27.229121Z",
          "iopub.execute_input": "2022-11-15T15:51:27.230051Z",
          "iopub.status.idle": "2022-11-15T15:51:27.256909Z",
          "shell.execute_reply.started": "2022-11-15T15:51:27.230013Z",
          "shell.execute_reply": "2022-11-15T15:51:27.255711Z"
        },
        "trusted": true,
        "colab": {
          "base_uri": "https://localhost:8080/",
          "height": 412
        },
        "id": "rOOXe_kWAJx2",
        "outputId": "7089970e-4a39-4501-d16c-a7b1aaa59a53"
      },
      "execution_count": null,
      "outputs": [
        {
          "output_type": "stream",
          "name": "stdout",
          "text": [
            "Shape: (12017, 12017)\n"
          ]
        },
        {
          "output_type": "execute_result",
          "data": {
            "text/plain": [
              "name                                         Sore Ike! Anpanman: Kuruyuki-hime to Mote Mote Baikinman  \\\n",
              "name                                                                                                    \n",
              "Taiho Shichau zo in America                                                           0.128752          \n",
              "Saiyuuki Reload                                                                       0.357161          \n",
              "One: Kagayaku Kisetsu e - True Stories                                                0.000000          \n",
              "Monster Strike: Mermaid Rhapsody                                                      0.251420          \n",
              "Reijou Caster: Ingyaku no Wana                                                        0.000000          \n",
              "Yakusoku                                                                              0.000000          \n",
              "Souta no Chikai: Sabetsu ni Makenai Chikara                                           0.365840          \n",
              "Airy Me                                                                               0.000000          \n",
              "Boku no Pico                                                                          0.000000          \n",
              "Cossette no Shouzou                                                                   0.000000          \n",
              "\n",
              "name                                         Strange Dawn  Baku Tech! Bakugan  \\\n",
              "name                                                                            \n",
              "Taiho Shichau zo in America                      0.000000            0.339198   \n",
              "Saiyuuki Reload                                  0.681734            0.136732   \n",
              "One: Kagayaku Kisetsu e - True Stories           0.000000            0.000000   \n",
              "Monster Strike: Mermaid Rhapsody                 0.240337            0.808630   \n",
              "Reijou Caster: Ingyaku no Wana                   0.000000            0.000000   \n",
              "Yakusoku                                         0.000000            0.000000   \n",
              "Souta no Chikai: Sabetsu ni Makenai Chikara      0.302141            0.000000   \n",
              "Airy Me                                          0.206706            0.000000   \n",
              "Boku no Pico                                     0.000000            0.000000   \n",
              "Cossette no Shouzou                              0.177595            0.000000   \n",
              "\n",
              "name                                         Shiroi Michi  Mama Puri!?  \n",
              "name                                                                    \n",
              "Taiho Shichau zo in America                      0.000000      0.00000  \n",
              "Saiyuuki Reload                                  0.000000      0.00000  \n",
              "One: Kagayaku Kisetsu e - True Stories           0.000000      1.00000  \n",
              "Monster Strike: Mermaid Rhapsody                 0.000000      0.00000  \n",
              "Reijou Caster: Ingyaku no Wana                   0.000000      1.00000  \n",
              "Yakusoku                                         0.000000      0.00000  \n",
              "Souta no Chikai: Sabetsu ni Makenai Chikara      0.000000      0.00000  \n",
              "Airy Me                                          0.451296      0.00000  \n",
              "Boku no Pico                                     0.000000      0.44672  \n",
              "Cossette no Shouzou                              0.000000      0.00000  "
            ],
            "text/html": [
              "\n",
              "  <div id=\"df-40df7397-5b31-4993-a6e6-46b3cc16d104\">\n",
              "    <div class=\"colab-df-container\">\n",
              "      <div>\n",
              "<style scoped>\n",
              "    .dataframe tbody tr th:only-of-type {\n",
              "        vertical-align: middle;\n",
              "    }\n",
              "\n",
              "    .dataframe tbody tr th {\n",
              "        vertical-align: top;\n",
              "    }\n",
              "\n",
              "    .dataframe thead th {\n",
              "        text-align: right;\n",
              "    }\n",
              "</style>\n",
              "<table border=\"1\" class=\"dataframe\">\n",
              "  <thead>\n",
              "    <tr style=\"text-align: right;\">\n",
              "      <th>name</th>\n",
              "      <th>Sore Ike! Anpanman: Kuruyuki-hime to Mote Mote Baikinman</th>\n",
              "      <th>Strange Dawn</th>\n",
              "      <th>Baku Tech! Bakugan</th>\n",
              "      <th>Shiroi Michi</th>\n",
              "      <th>Mama Puri!?</th>\n",
              "    </tr>\n",
              "    <tr>\n",
              "      <th>name</th>\n",
              "      <th></th>\n",
              "      <th></th>\n",
              "      <th></th>\n",
              "      <th></th>\n",
              "      <th></th>\n",
              "    </tr>\n",
              "  </thead>\n",
              "  <tbody>\n",
              "    <tr>\n",
              "      <th>Taiho Shichau zo in America</th>\n",
              "      <td>0.128752</td>\n",
              "      <td>0.000000</td>\n",
              "      <td>0.339198</td>\n",
              "      <td>0.000000</td>\n",
              "      <td>0.00000</td>\n",
              "    </tr>\n",
              "    <tr>\n",
              "      <th>Saiyuuki Reload</th>\n",
              "      <td>0.357161</td>\n",
              "      <td>0.681734</td>\n",
              "      <td>0.136732</td>\n",
              "      <td>0.000000</td>\n",
              "      <td>0.00000</td>\n",
              "    </tr>\n",
              "    <tr>\n",
              "      <th>One: Kagayaku Kisetsu e - True Stories</th>\n",
              "      <td>0.000000</td>\n",
              "      <td>0.000000</td>\n",
              "      <td>0.000000</td>\n",
              "      <td>0.000000</td>\n",
              "      <td>1.00000</td>\n",
              "    </tr>\n",
              "    <tr>\n",
              "      <th>Monster Strike: Mermaid Rhapsody</th>\n",
              "      <td>0.251420</td>\n",
              "      <td>0.240337</td>\n",
              "      <td>0.808630</td>\n",
              "      <td>0.000000</td>\n",
              "      <td>0.00000</td>\n",
              "    </tr>\n",
              "    <tr>\n",
              "      <th>Reijou Caster: Ingyaku no Wana</th>\n",
              "      <td>0.000000</td>\n",
              "      <td>0.000000</td>\n",
              "      <td>0.000000</td>\n",
              "      <td>0.000000</td>\n",
              "      <td>1.00000</td>\n",
              "    </tr>\n",
              "    <tr>\n",
              "      <th>Yakusoku</th>\n",
              "      <td>0.000000</td>\n",
              "      <td>0.000000</td>\n",
              "      <td>0.000000</td>\n",
              "      <td>0.000000</td>\n",
              "      <td>0.00000</td>\n",
              "    </tr>\n",
              "    <tr>\n",
              "      <th>Souta no Chikai: Sabetsu ni Makenai Chikara</th>\n",
              "      <td>0.365840</td>\n",
              "      <td>0.302141</td>\n",
              "      <td>0.000000</td>\n",
              "      <td>0.000000</td>\n",
              "      <td>0.00000</td>\n",
              "    </tr>\n",
              "    <tr>\n",
              "      <th>Airy Me</th>\n",
              "      <td>0.000000</td>\n",
              "      <td>0.206706</td>\n",
              "      <td>0.000000</td>\n",
              "      <td>0.451296</td>\n",
              "      <td>0.00000</td>\n",
              "    </tr>\n",
              "    <tr>\n",
              "      <th>Boku no Pico</th>\n",
              "      <td>0.000000</td>\n",
              "      <td>0.000000</td>\n",
              "      <td>0.000000</td>\n",
              "      <td>0.000000</td>\n",
              "      <td>0.44672</td>\n",
              "    </tr>\n",
              "    <tr>\n",
              "      <th>Cossette no Shouzou</th>\n",
              "      <td>0.000000</td>\n",
              "      <td>0.177595</td>\n",
              "      <td>0.000000</td>\n",
              "      <td>0.000000</td>\n",
              "      <td>0.00000</td>\n",
              "    </tr>\n",
              "  </tbody>\n",
              "</table>\n",
              "</div>\n",
              "      <button class=\"colab-df-convert\" onclick=\"convertToInteractive('df-40df7397-5b31-4993-a6e6-46b3cc16d104')\"\n",
              "              title=\"Convert this dataframe to an interactive table.\"\n",
              "              style=\"display:none;\">\n",
              "        \n",
              "  <svg xmlns=\"http://www.w3.org/2000/svg\" height=\"24px\"viewBox=\"0 0 24 24\"\n",
              "       width=\"24px\">\n",
              "    <path d=\"M0 0h24v24H0V0z\" fill=\"none\"/>\n",
              "    <path d=\"M18.56 5.44l.94 2.06.94-2.06 2.06-.94-2.06-.94-.94-2.06-.94 2.06-2.06.94zm-11 1L8.5 8.5l.94-2.06 2.06-.94-2.06-.94L8.5 2.5l-.94 2.06-2.06.94zm10 10l.94 2.06.94-2.06 2.06-.94-2.06-.94-.94-2.06-.94 2.06-2.06.94z\"/><path d=\"M17.41 7.96l-1.37-1.37c-.4-.4-.92-.59-1.43-.59-.52 0-1.04.2-1.43.59L10.3 9.45l-7.72 7.72c-.78.78-.78 2.05 0 2.83L4 21.41c.39.39.9.59 1.41.59.51 0 1.02-.2 1.41-.59l7.78-7.78 2.81-2.81c.8-.78.8-2.07 0-2.86zM5.41 20L4 18.59l7.72-7.72 1.47 1.35L5.41 20z\"/>\n",
              "  </svg>\n",
              "      </button>\n",
              "      \n",
              "  <style>\n",
              "    .colab-df-container {\n",
              "      display:flex;\n",
              "      flex-wrap:wrap;\n",
              "      gap: 12px;\n",
              "    }\n",
              "\n",
              "    .colab-df-convert {\n",
              "      background-color: #E8F0FE;\n",
              "      border: none;\n",
              "      border-radius: 50%;\n",
              "      cursor: pointer;\n",
              "      display: none;\n",
              "      fill: #1967D2;\n",
              "      height: 32px;\n",
              "      padding: 0 0 0 0;\n",
              "      width: 32px;\n",
              "    }\n",
              "\n",
              "    .colab-df-convert:hover {\n",
              "      background-color: #E2EBFA;\n",
              "      box-shadow: 0px 1px 2px rgba(60, 64, 67, 0.3), 0px 1px 3px 1px rgba(60, 64, 67, 0.15);\n",
              "      fill: #174EA6;\n",
              "    }\n",
              "\n",
              "    [theme=dark] .colab-df-convert {\n",
              "      background-color: #3B4455;\n",
              "      fill: #D2E3FC;\n",
              "    }\n",
              "\n",
              "    [theme=dark] .colab-df-convert:hover {\n",
              "      background-color: #434B5C;\n",
              "      box-shadow: 0px 1px 3px 1px rgba(0, 0, 0, 0.15);\n",
              "      filter: drop-shadow(0px 1px 2px rgba(0, 0, 0, 0.3));\n",
              "      fill: #FFFFFF;\n",
              "    }\n",
              "  </style>\n",
              "\n",
              "      <script>\n",
              "        const buttonEl =\n",
              "          document.querySelector('#df-40df7397-5b31-4993-a6e6-46b3cc16d104 button.colab-df-convert');\n",
              "        buttonEl.style.display =\n",
              "          google.colab.kernel.accessAllowed ? 'block' : 'none';\n",
              "\n",
              "        async function convertToInteractive(key) {\n",
              "          const element = document.querySelector('#df-40df7397-5b31-4993-a6e6-46b3cc16d104');\n",
              "          const dataTable =\n",
              "            await google.colab.kernel.invokeFunction('convertToInteractive',\n",
              "                                                     [key], {});\n",
              "          if (!dataTable) return;\n",
              "\n",
              "          const docLinkHtml = 'Like what you see? Visit the ' +\n",
              "            '<a target=\"_blank\" href=https://colab.research.google.com/notebooks/data_table.ipynb>data table notebook</a>'\n",
              "            + ' to learn more about interactive tables.';\n",
              "          element.innerHTML = '';\n",
              "          dataTable['output_type'] = 'display_data';\n",
              "          await google.colab.output.renderOutput(dataTable, element);\n",
              "          const docLink = document.createElement('div');\n",
              "          docLink.innerHTML = docLinkHtml;\n",
              "          element.appendChild(docLink);\n",
              "        }\n",
              "      </script>\n",
              "    </div>\n",
              "  </div>\n",
              "  "
            ]
          },
          "metadata": {},
          "execution_count": 32
        }
      ]
    },
    {
      "cell_type": "markdown",
      "source": [
        "**Membuat fungsi rekomendasi** "
      ],
      "metadata": {
        "id": "TbHxDh77P7VL"
      }
    },
    {
      "cell_type": "code",
      "source": [
        "def anime_recommendation(nama_anime, similarity_data=cosine_sim_df, items=anime_df[['name', 'genre']], k=5):\n",
        "    \n",
        "    index = similarity_data.loc[:,nama_anime].to_numpy().argpartition(\n",
        "        range(-1, -k, -1))\n",
        "    \n",
        "    closest = similarity_data.columns[index[-1:-(k+2):-1]]\n",
        "    \n",
        "    closest = closest.drop(nama_anime, errors='ignore')\n",
        " \n",
        "    return pd.DataFrame(closest).merge(items).head(k)"
      ],
      "metadata": {
        "execution": {
          "iopub.status.busy": "2022-11-15T15:51:27.258841Z",
          "iopub.execute_input": "2022-11-15T15:51:27.259290Z",
          "iopub.status.idle": "2022-11-15T15:51:27.268043Z",
          "shell.execute_reply.started": "2022-11-15T15:51:27.259247Z",
          "shell.execute_reply": "2022-11-15T15:51:27.266717Z"
        },
        "trusted": true,
        "id": "lid2SLJhAJx2"
      },
      "execution_count": null,
      "outputs": []
    },
    {
      "cell_type": "markdown",
      "source": [
        "Test rekomendasi"
      ],
      "metadata": {
        "id": "6NumWIPeQGX9"
      }
    },
    {
      "cell_type": "code",
      "source": [
        "anime_df[anime_df.name.eq('One Piece')]"
      ],
      "metadata": {
        "execution": {
          "iopub.status.busy": "2022-11-15T15:51:27.269821Z",
          "iopub.execute_input": "2022-11-15T15:51:27.270185Z",
          "iopub.status.idle": "2022-11-15T15:51:27.302461Z",
          "shell.execute_reply.started": "2022-11-15T15:51:27.270149Z",
          "shell.execute_reply": "2022-11-15T15:51:27.301342Z"
        },
        "trusted": true,
        "colab": {
          "base_uri": "https://localhost:8080/",
          "height": 81
        },
        "id": "lpZdnPgIAJx2",
        "outputId": "3e33aa47-89cf-4d63-e04b-949d7887d87f"
      },
      "execution_count": null,
      "outputs": [
        {
          "output_type": "execute_result",
          "data": {
            "text/plain": [
              "    anime_id       name                                              genre  \\\n",
              "74        21  One Piece  Action, Adventure, Comedy, Drama, Fantasy, Sho...   \n",
              "\n",
              "   type episodes  rating  members  \n",
              "74   TV  Unknown    8.58   504862  "
            ],
            "text/html": [
              "\n",
              "  <div id=\"df-2cf0fafa-53fb-45b7-9360-ef0c6d922551\">\n",
              "    <div class=\"colab-df-container\">\n",
              "      <div>\n",
              "<style scoped>\n",
              "    .dataframe tbody tr th:only-of-type {\n",
              "        vertical-align: middle;\n",
              "    }\n",
              "\n",
              "    .dataframe tbody tr th {\n",
              "        vertical-align: top;\n",
              "    }\n",
              "\n",
              "    .dataframe thead th {\n",
              "        text-align: right;\n",
              "    }\n",
              "</style>\n",
              "<table border=\"1\" class=\"dataframe\">\n",
              "  <thead>\n",
              "    <tr style=\"text-align: right;\">\n",
              "      <th></th>\n",
              "      <th>anime_id</th>\n",
              "      <th>name</th>\n",
              "      <th>genre</th>\n",
              "      <th>type</th>\n",
              "      <th>episodes</th>\n",
              "      <th>rating</th>\n",
              "      <th>members</th>\n",
              "    </tr>\n",
              "  </thead>\n",
              "  <tbody>\n",
              "    <tr>\n",
              "      <th>74</th>\n",
              "      <td>21</td>\n",
              "      <td>One Piece</td>\n",
              "      <td>Action, Adventure, Comedy, Drama, Fantasy, Sho...</td>\n",
              "      <td>TV</td>\n",
              "      <td>Unknown</td>\n",
              "      <td>8.58</td>\n",
              "      <td>504862</td>\n",
              "    </tr>\n",
              "  </tbody>\n",
              "</table>\n",
              "</div>\n",
              "      <button class=\"colab-df-convert\" onclick=\"convertToInteractive('df-2cf0fafa-53fb-45b7-9360-ef0c6d922551')\"\n",
              "              title=\"Convert this dataframe to an interactive table.\"\n",
              "              style=\"display:none;\">\n",
              "        \n",
              "  <svg xmlns=\"http://www.w3.org/2000/svg\" height=\"24px\"viewBox=\"0 0 24 24\"\n",
              "       width=\"24px\">\n",
              "    <path d=\"M0 0h24v24H0V0z\" fill=\"none\"/>\n",
              "    <path d=\"M18.56 5.44l.94 2.06.94-2.06 2.06-.94-2.06-.94-.94-2.06-.94 2.06-2.06.94zm-11 1L8.5 8.5l.94-2.06 2.06-.94-2.06-.94L8.5 2.5l-.94 2.06-2.06.94zm10 10l.94 2.06.94-2.06 2.06-.94-2.06-.94-.94-2.06-.94 2.06-2.06.94z\"/><path d=\"M17.41 7.96l-1.37-1.37c-.4-.4-.92-.59-1.43-.59-.52 0-1.04.2-1.43.59L10.3 9.45l-7.72 7.72c-.78.78-.78 2.05 0 2.83L4 21.41c.39.39.9.59 1.41.59.51 0 1.02-.2 1.41-.59l7.78-7.78 2.81-2.81c.8-.78.8-2.07 0-2.86zM5.41 20L4 18.59l7.72-7.72 1.47 1.35L5.41 20z\"/>\n",
              "  </svg>\n",
              "      </button>\n",
              "      \n",
              "  <style>\n",
              "    .colab-df-container {\n",
              "      display:flex;\n",
              "      flex-wrap:wrap;\n",
              "      gap: 12px;\n",
              "    }\n",
              "\n",
              "    .colab-df-convert {\n",
              "      background-color: #E8F0FE;\n",
              "      border: none;\n",
              "      border-radius: 50%;\n",
              "      cursor: pointer;\n",
              "      display: none;\n",
              "      fill: #1967D2;\n",
              "      height: 32px;\n",
              "      padding: 0 0 0 0;\n",
              "      width: 32px;\n",
              "    }\n",
              "\n",
              "    .colab-df-convert:hover {\n",
              "      background-color: #E2EBFA;\n",
              "      box-shadow: 0px 1px 2px rgba(60, 64, 67, 0.3), 0px 1px 3px 1px rgba(60, 64, 67, 0.15);\n",
              "      fill: #174EA6;\n",
              "    }\n",
              "\n",
              "    [theme=dark] .colab-df-convert {\n",
              "      background-color: #3B4455;\n",
              "      fill: #D2E3FC;\n",
              "    }\n",
              "\n",
              "    [theme=dark] .colab-df-convert:hover {\n",
              "      background-color: #434B5C;\n",
              "      box-shadow: 0px 1px 3px 1px rgba(0, 0, 0, 0.15);\n",
              "      filter: drop-shadow(0px 1px 2px rgba(0, 0, 0, 0.3));\n",
              "      fill: #FFFFFF;\n",
              "    }\n",
              "  </style>\n",
              "\n",
              "      <script>\n",
              "        const buttonEl =\n",
              "          document.querySelector('#df-2cf0fafa-53fb-45b7-9360-ef0c6d922551 button.colab-df-convert');\n",
              "        buttonEl.style.display =\n",
              "          google.colab.kernel.accessAllowed ? 'block' : 'none';\n",
              "\n",
              "        async function convertToInteractive(key) {\n",
              "          const element = document.querySelector('#df-2cf0fafa-53fb-45b7-9360-ef0c6d922551');\n",
              "          const dataTable =\n",
              "            await google.colab.kernel.invokeFunction('convertToInteractive',\n",
              "                                                     [key], {});\n",
              "          if (!dataTable) return;\n",
              "\n",
              "          const docLinkHtml = 'Like what you see? Visit the ' +\n",
              "            '<a target=\"_blank\" href=https://colab.research.google.com/notebooks/data_table.ipynb>data table notebook</a>'\n",
              "            + ' to learn more about interactive tables.';\n",
              "          element.innerHTML = '';\n",
              "          dataTable['output_type'] = 'display_data';\n",
              "          await google.colab.output.renderOutput(dataTable, element);\n",
              "          const docLink = document.createElement('div');\n",
              "          docLink.innerHTML = docLinkHtml;\n",
              "          element.appendChild(docLink);\n",
              "        }\n",
              "      </script>\n",
              "    </div>\n",
              "  </div>\n",
              "  "
            ]
          },
          "metadata": {},
          "execution_count": 34
        }
      ]
    },
    {
      "cell_type": "code",
      "source": [
        "anime_recommendation('One Piece')"
      ],
      "metadata": {
        "execution": {
          "iopub.status.busy": "2022-11-15T15:51:27.306482Z",
          "iopub.execute_input": "2022-11-15T15:51:27.306823Z",
          "iopub.status.idle": "2022-11-15T15:51:27.419060Z",
          "shell.execute_reply.started": "2022-11-15T15:51:27.306792Z",
          "shell.execute_reply": "2022-11-15T15:51:27.418040Z"
        },
        "trusted": true,
        "colab": {
          "base_uri": "https://localhost:8080/",
          "height": 206
        },
        "id": "Ho7MElZaAJx2",
        "outputId": "2eb78c88-d5a2-4bae-bc3e-93c45c8a67cb"
      },
      "execution_count": null,
      "outputs": [
        {
          "output_type": "execute_result",
          "data": {
            "text/plain": [
              "                                                name  \\\n",
              "0  One Piece: Episode of Sabo - 3 Kyoudai no Kizu...   \n",
              "1  One Piece: Episode of Nami - Koukaishi no Nami...   \n",
              "2  One Piece: Episode of Merry - Mou Hitori no Na...   \n",
              "3  One Piece: Oounabara ni Hirake! Dekkai Dekkai ...   \n",
              "4                 One Piece: Adventure of Nebulandia   \n",
              "\n",
              "                                               genre  \n",
              "0  Action, Adventure, Comedy, Drama, Fantasy, Sho...  \n",
              "1  Action, Adventure, Comedy, Drama, Fantasy, Sho...  \n",
              "2  Action, Adventure, Comedy, Drama, Fantasy, Sho...  \n",
              "3  Action, Adventure, Comedy, Fantasy, Shounen, S...  \n",
              "4  Action, Adventure, Comedy, Fantasy, Shounen, S...  "
            ],
            "text/html": [
              "\n",
              "  <div id=\"df-e04fd45a-01bd-4cbd-9a46-1b396550b3d4\">\n",
              "    <div class=\"colab-df-container\">\n",
              "      <div>\n",
              "<style scoped>\n",
              "    .dataframe tbody tr th:only-of-type {\n",
              "        vertical-align: middle;\n",
              "    }\n",
              "\n",
              "    .dataframe tbody tr th {\n",
              "        vertical-align: top;\n",
              "    }\n",
              "\n",
              "    .dataframe thead th {\n",
              "        text-align: right;\n",
              "    }\n",
              "</style>\n",
              "<table border=\"1\" class=\"dataframe\">\n",
              "  <thead>\n",
              "    <tr style=\"text-align: right;\">\n",
              "      <th></th>\n",
              "      <th>name</th>\n",
              "      <th>genre</th>\n",
              "    </tr>\n",
              "  </thead>\n",
              "  <tbody>\n",
              "    <tr>\n",
              "      <th>0</th>\n",
              "      <td>One Piece: Episode of Sabo - 3 Kyoudai no Kizu...</td>\n",
              "      <td>Action, Adventure, Comedy, Drama, Fantasy, Sho...</td>\n",
              "    </tr>\n",
              "    <tr>\n",
              "      <th>1</th>\n",
              "      <td>One Piece: Episode of Nami - Koukaishi no Nami...</td>\n",
              "      <td>Action, Adventure, Comedy, Drama, Fantasy, Sho...</td>\n",
              "    </tr>\n",
              "    <tr>\n",
              "      <th>2</th>\n",
              "      <td>One Piece: Episode of Merry - Mou Hitori no Na...</td>\n",
              "      <td>Action, Adventure, Comedy, Drama, Fantasy, Sho...</td>\n",
              "    </tr>\n",
              "    <tr>\n",
              "      <th>3</th>\n",
              "      <td>One Piece: Oounabara ni Hirake! Dekkai Dekkai ...</td>\n",
              "      <td>Action, Adventure, Comedy, Fantasy, Shounen, S...</td>\n",
              "    </tr>\n",
              "    <tr>\n",
              "      <th>4</th>\n",
              "      <td>One Piece: Adventure of Nebulandia</td>\n",
              "      <td>Action, Adventure, Comedy, Fantasy, Shounen, S...</td>\n",
              "    </tr>\n",
              "  </tbody>\n",
              "</table>\n",
              "</div>\n",
              "      <button class=\"colab-df-convert\" onclick=\"convertToInteractive('df-e04fd45a-01bd-4cbd-9a46-1b396550b3d4')\"\n",
              "              title=\"Convert this dataframe to an interactive table.\"\n",
              "              style=\"display:none;\">\n",
              "        \n",
              "  <svg xmlns=\"http://www.w3.org/2000/svg\" height=\"24px\"viewBox=\"0 0 24 24\"\n",
              "       width=\"24px\">\n",
              "    <path d=\"M0 0h24v24H0V0z\" fill=\"none\"/>\n",
              "    <path d=\"M18.56 5.44l.94 2.06.94-2.06 2.06-.94-2.06-.94-.94-2.06-.94 2.06-2.06.94zm-11 1L8.5 8.5l.94-2.06 2.06-.94-2.06-.94L8.5 2.5l-.94 2.06-2.06.94zm10 10l.94 2.06.94-2.06 2.06-.94-2.06-.94-.94-2.06-.94 2.06-2.06.94z\"/><path d=\"M17.41 7.96l-1.37-1.37c-.4-.4-.92-.59-1.43-.59-.52 0-1.04.2-1.43.59L10.3 9.45l-7.72 7.72c-.78.78-.78 2.05 0 2.83L4 21.41c.39.39.9.59 1.41.59.51 0 1.02-.2 1.41-.59l7.78-7.78 2.81-2.81c.8-.78.8-2.07 0-2.86zM5.41 20L4 18.59l7.72-7.72 1.47 1.35L5.41 20z\"/>\n",
              "  </svg>\n",
              "      </button>\n",
              "      \n",
              "  <style>\n",
              "    .colab-df-container {\n",
              "      display:flex;\n",
              "      flex-wrap:wrap;\n",
              "      gap: 12px;\n",
              "    }\n",
              "\n",
              "    .colab-df-convert {\n",
              "      background-color: #E8F0FE;\n",
              "      border: none;\n",
              "      border-radius: 50%;\n",
              "      cursor: pointer;\n",
              "      display: none;\n",
              "      fill: #1967D2;\n",
              "      height: 32px;\n",
              "      padding: 0 0 0 0;\n",
              "      width: 32px;\n",
              "    }\n",
              "\n",
              "    .colab-df-convert:hover {\n",
              "      background-color: #E2EBFA;\n",
              "      box-shadow: 0px 1px 2px rgba(60, 64, 67, 0.3), 0px 1px 3px 1px rgba(60, 64, 67, 0.15);\n",
              "      fill: #174EA6;\n",
              "    }\n",
              "\n",
              "    [theme=dark] .colab-df-convert {\n",
              "      background-color: #3B4455;\n",
              "      fill: #D2E3FC;\n",
              "    }\n",
              "\n",
              "    [theme=dark] .colab-df-convert:hover {\n",
              "      background-color: #434B5C;\n",
              "      box-shadow: 0px 1px 3px 1px rgba(0, 0, 0, 0.15);\n",
              "      filter: drop-shadow(0px 1px 2px rgba(0, 0, 0, 0.3));\n",
              "      fill: #FFFFFF;\n",
              "    }\n",
              "  </style>\n",
              "\n",
              "      <script>\n",
              "        const buttonEl =\n",
              "          document.querySelector('#df-e04fd45a-01bd-4cbd-9a46-1b396550b3d4 button.colab-df-convert');\n",
              "        buttonEl.style.display =\n",
              "          google.colab.kernel.accessAllowed ? 'block' : 'none';\n",
              "\n",
              "        async function convertToInteractive(key) {\n",
              "          const element = document.querySelector('#df-e04fd45a-01bd-4cbd-9a46-1b396550b3d4');\n",
              "          const dataTable =\n",
              "            await google.colab.kernel.invokeFunction('convertToInteractive',\n",
              "                                                     [key], {});\n",
              "          if (!dataTable) return;\n",
              "\n",
              "          const docLinkHtml = 'Like what you see? Visit the ' +\n",
              "            '<a target=\"_blank\" href=https://colab.research.google.com/notebooks/data_table.ipynb>data table notebook</a>'\n",
              "            + ' to learn more about interactive tables.';\n",
              "          element.innerHTML = '';\n",
              "          dataTable['output_type'] = 'display_data';\n",
              "          await google.colab.output.renderOutput(dataTable, element);\n",
              "          const docLink = document.createElement('div');\n",
              "          docLink.innerHTML = docLinkHtml;\n",
              "          element.appendChild(docLink);\n",
              "        }\n",
              "      </script>\n",
              "    </div>\n",
              "  </div>\n",
              "  "
            ]
          },
          "metadata": {},
          "execution_count": 35
        }
      ]
    },
    {
      "cell_type": "code",
      "source": [
        "anime_recommendation('AD Police')"
      ],
      "metadata": {
        "execution": {
          "iopub.status.busy": "2022-11-15T15:51:27.422688Z",
          "iopub.execute_input": "2022-11-15T15:51:27.422962Z",
          "iopub.status.idle": "2022-11-15T15:51:27.497220Z",
          "shell.execute_reply.started": "2022-11-15T15:51:27.422937Z",
          "shell.execute_reply": "2022-11-15T15:51:27.496062Z"
        },
        "trusted": true,
        "colab": {
          "base_uri": "https://localhost:8080/",
          "height": 206
        },
        "id": "6so-dIFKAJx3",
        "outputId": "0d2851d1-92dd-4dd2-e63b-8e308db7e659"
      },
      "execution_count": null,
      "outputs": [
        {
          "output_type": "execute_result",
          "data": {
            "text/plain": [
              "                                                name  \\\n",
              "0                                         Death Note   \n",
              "1                                 Death Note Rewrite   \n",
              "2                                    Mousou Dairinin   \n",
              "3  Ghost in the Shell: Arise - Border:2 Ghost Whi...   \n",
              "4    Ghost in the Shell: Arise - Border:1 Ghost Pain   \n",
              "\n",
              "                                               genre  \n",
              "0  Mystery, Police, Psychological, Supernatural, ...  \n",
              "1  Mystery, Police, Psychological, Supernatural, ...  \n",
              "2  Drama, Mystery, Police, Psychological, Superna...  \n",
              "3               Mecha, Police, Psychological, Sci-Fi  \n",
              "4               Mecha, Police, Psychological, Sci-Fi  "
            ],
            "text/html": [
              "\n",
              "  <div id=\"df-e04662e8-ef68-479b-b820-66a9009a1d2b\">\n",
              "    <div class=\"colab-df-container\">\n",
              "      <div>\n",
              "<style scoped>\n",
              "    .dataframe tbody tr th:only-of-type {\n",
              "        vertical-align: middle;\n",
              "    }\n",
              "\n",
              "    .dataframe tbody tr th {\n",
              "        vertical-align: top;\n",
              "    }\n",
              "\n",
              "    .dataframe thead th {\n",
              "        text-align: right;\n",
              "    }\n",
              "</style>\n",
              "<table border=\"1\" class=\"dataframe\">\n",
              "  <thead>\n",
              "    <tr style=\"text-align: right;\">\n",
              "      <th></th>\n",
              "      <th>name</th>\n",
              "      <th>genre</th>\n",
              "    </tr>\n",
              "  </thead>\n",
              "  <tbody>\n",
              "    <tr>\n",
              "      <th>0</th>\n",
              "      <td>Death Note</td>\n",
              "      <td>Mystery, Police, Psychological, Supernatural, ...</td>\n",
              "    </tr>\n",
              "    <tr>\n",
              "      <th>1</th>\n",
              "      <td>Death Note Rewrite</td>\n",
              "      <td>Mystery, Police, Psychological, Supernatural, ...</td>\n",
              "    </tr>\n",
              "    <tr>\n",
              "      <th>2</th>\n",
              "      <td>Mousou Dairinin</td>\n",
              "      <td>Drama, Mystery, Police, Psychological, Superna...</td>\n",
              "    </tr>\n",
              "    <tr>\n",
              "      <th>3</th>\n",
              "      <td>Ghost in the Shell: Arise - Border:2 Ghost Whi...</td>\n",
              "      <td>Mecha, Police, Psychological, Sci-Fi</td>\n",
              "    </tr>\n",
              "    <tr>\n",
              "      <th>4</th>\n",
              "      <td>Ghost in the Shell: Arise - Border:1 Ghost Pain</td>\n",
              "      <td>Mecha, Police, Psychological, Sci-Fi</td>\n",
              "    </tr>\n",
              "  </tbody>\n",
              "</table>\n",
              "</div>\n",
              "      <button class=\"colab-df-convert\" onclick=\"convertToInteractive('df-e04662e8-ef68-479b-b820-66a9009a1d2b')\"\n",
              "              title=\"Convert this dataframe to an interactive table.\"\n",
              "              style=\"display:none;\">\n",
              "        \n",
              "  <svg xmlns=\"http://www.w3.org/2000/svg\" height=\"24px\"viewBox=\"0 0 24 24\"\n",
              "       width=\"24px\">\n",
              "    <path d=\"M0 0h24v24H0V0z\" fill=\"none\"/>\n",
              "    <path d=\"M18.56 5.44l.94 2.06.94-2.06 2.06-.94-2.06-.94-.94-2.06-.94 2.06-2.06.94zm-11 1L8.5 8.5l.94-2.06 2.06-.94-2.06-.94L8.5 2.5l-.94 2.06-2.06.94zm10 10l.94 2.06.94-2.06 2.06-.94-2.06-.94-.94-2.06-.94 2.06-2.06.94z\"/><path d=\"M17.41 7.96l-1.37-1.37c-.4-.4-.92-.59-1.43-.59-.52 0-1.04.2-1.43.59L10.3 9.45l-7.72 7.72c-.78.78-.78 2.05 0 2.83L4 21.41c.39.39.9.59 1.41.59.51 0 1.02-.2 1.41-.59l7.78-7.78 2.81-2.81c.8-.78.8-2.07 0-2.86zM5.41 20L4 18.59l7.72-7.72 1.47 1.35L5.41 20z\"/>\n",
              "  </svg>\n",
              "      </button>\n",
              "      \n",
              "  <style>\n",
              "    .colab-df-container {\n",
              "      display:flex;\n",
              "      flex-wrap:wrap;\n",
              "      gap: 12px;\n",
              "    }\n",
              "\n",
              "    .colab-df-convert {\n",
              "      background-color: #E8F0FE;\n",
              "      border: none;\n",
              "      border-radius: 50%;\n",
              "      cursor: pointer;\n",
              "      display: none;\n",
              "      fill: #1967D2;\n",
              "      height: 32px;\n",
              "      padding: 0 0 0 0;\n",
              "      width: 32px;\n",
              "    }\n",
              "\n",
              "    .colab-df-convert:hover {\n",
              "      background-color: #E2EBFA;\n",
              "      box-shadow: 0px 1px 2px rgba(60, 64, 67, 0.3), 0px 1px 3px 1px rgba(60, 64, 67, 0.15);\n",
              "      fill: #174EA6;\n",
              "    }\n",
              "\n",
              "    [theme=dark] .colab-df-convert {\n",
              "      background-color: #3B4455;\n",
              "      fill: #D2E3FC;\n",
              "    }\n",
              "\n",
              "    [theme=dark] .colab-df-convert:hover {\n",
              "      background-color: #434B5C;\n",
              "      box-shadow: 0px 1px 3px 1px rgba(0, 0, 0, 0.15);\n",
              "      filter: drop-shadow(0px 1px 2px rgba(0, 0, 0, 0.3));\n",
              "      fill: #FFFFFF;\n",
              "    }\n",
              "  </style>\n",
              "\n",
              "      <script>\n",
              "        const buttonEl =\n",
              "          document.querySelector('#df-e04662e8-ef68-479b-b820-66a9009a1d2b button.colab-df-convert');\n",
              "        buttonEl.style.display =\n",
              "          google.colab.kernel.accessAllowed ? 'block' : 'none';\n",
              "\n",
              "        async function convertToInteractive(key) {\n",
              "          const element = document.querySelector('#df-e04662e8-ef68-479b-b820-66a9009a1d2b');\n",
              "          const dataTable =\n",
              "            await google.colab.kernel.invokeFunction('convertToInteractive',\n",
              "                                                     [key], {});\n",
              "          if (!dataTable) return;\n",
              "\n",
              "          const docLinkHtml = 'Like what you see? Visit the ' +\n",
              "            '<a target=\"_blank\" href=https://colab.research.google.com/notebooks/data_table.ipynb>data table notebook</a>'\n",
              "            + ' to learn more about interactive tables.';\n",
              "          element.innerHTML = '';\n",
              "          dataTable['output_type'] = 'display_data';\n",
              "          await google.colab.output.renderOutput(dataTable, element);\n",
              "          const docLink = document.createElement('div');\n",
              "          docLink.innerHTML = docLinkHtml;\n",
              "          element.appendChild(docLink);\n",
              "        }\n",
              "      </script>\n",
              "    </div>\n",
              "  </div>\n",
              "  "
            ]
          },
          "metadata": {},
          "execution_count": 36
        }
      ]
    },
    {
      "cell_type": "markdown",
      "source": [
        "### **COLLABORATIVE**"
      ],
      "metadata": {
        "id": "SJFgYJfoQuoS"
      }
    },
    {
      "cell_type": "code",
      "source": [
        "rating_df"
      ],
      "metadata": {
        "execution": {
          "iopub.status.busy": "2022-11-15T15:51:27.498565Z",
          "iopub.execute_input": "2022-11-15T15:51:27.499429Z",
          "iopub.status.idle": "2022-11-15T15:51:27.563665Z",
          "shell.execute_reply.started": "2022-11-15T15:51:27.499388Z",
          "shell.execute_reply": "2022-11-15T15:51:27.562618Z"
        },
        "trusted": true,
        "colab": {
          "base_uri": "https://localhost:8080/",
          "height": 424
        },
        "id": "jqNeW6rAAJx3",
        "outputId": "40bca51a-a687-46a3-ad75-ae14737753a8"
      },
      "execution_count": null,
      "outputs": [
        {
          "output_type": "execute_result",
          "data": {
            "text/plain": [
              "      user_id  anime_id  rating\n",
              "47          1      8074    10.0\n",
              "81          1     11617    10.0\n",
              "83          1     11757    10.0\n",
              "101         1     15451    10.0\n",
              "153         2     11771    10.0\n",
              "...       ...       ...     ...\n",
              "1993       17     20899     9.0\n",
              "1994       17     20903     6.0\n",
              "1995       17     20931     5.0\n",
              "1997       17     20965     6.0\n",
              "1998       17     20973     6.0\n",
              "\n",
              "[1452 rows x 3 columns]"
            ],
            "text/html": [
              "\n",
              "  <div id=\"df-95dbd2a4-567a-42b4-b4ca-18755061be15\">\n",
              "    <div class=\"colab-df-container\">\n",
              "      <div>\n",
              "<style scoped>\n",
              "    .dataframe tbody tr th:only-of-type {\n",
              "        vertical-align: middle;\n",
              "    }\n",
              "\n",
              "    .dataframe tbody tr th {\n",
              "        vertical-align: top;\n",
              "    }\n",
              "\n",
              "    .dataframe thead th {\n",
              "        text-align: right;\n",
              "    }\n",
              "</style>\n",
              "<table border=\"1\" class=\"dataframe\">\n",
              "  <thead>\n",
              "    <tr style=\"text-align: right;\">\n",
              "      <th></th>\n",
              "      <th>user_id</th>\n",
              "      <th>anime_id</th>\n",
              "      <th>rating</th>\n",
              "    </tr>\n",
              "  </thead>\n",
              "  <tbody>\n",
              "    <tr>\n",
              "      <th>47</th>\n",
              "      <td>1</td>\n",
              "      <td>8074</td>\n",
              "      <td>10.0</td>\n",
              "    </tr>\n",
              "    <tr>\n",
              "      <th>81</th>\n",
              "      <td>1</td>\n",
              "      <td>11617</td>\n",
              "      <td>10.0</td>\n",
              "    </tr>\n",
              "    <tr>\n",
              "      <th>83</th>\n",
              "      <td>1</td>\n",
              "      <td>11757</td>\n",
              "      <td>10.0</td>\n",
              "    </tr>\n",
              "    <tr>\n",
              "      <th>101</th>\n",
              "      <td>1</td>\n",
              "      <td>15451</td>\n",
              "      <td>10.0</td>\n",
              "    </tr>\n",
              "    <tr>\n",
              "      <th>153</th>\n",
              "      <td>2</td>\n",
              "      <td>11771</td>\n",
              "      <td>10.0</td>\n",
              "    </tr>\n",
              "    <tr>\n",
              "      <th>...</th>\n",
              "      <td>...</td>\n",
              "      <td>...</td>\n",
              "      <td>...</td>\n",
              "    </tr>\n",
              "    <tr>\n",
              "      <th>1993</th>\n",
              "      <td>17</td>\n",
              "      <td>20899</td>\n",
              "      <td>9.0</td>\n",
              "    </tr>\n",
              "    <tr>\n",
              "      <th>1994</th>\n",
              "      <td>17</td>\n",
              "      <td>20903</td>\n",
              "      <td>6.0</td>\n",
              "    </tr>\n",
              "    <tr>\n",
              "      <th>1995</th>\n",
              "      <td>17</td>\n",
              "      <td>20931</td>\n",
              "      <td>5.0</td>\n",
              "    </tr>\n",
              "    <tr>\n",
              "      <th>1997</th>\n",
              "      <td>17</td>\n",
              "      <td>20965</td>\n",
              "      <td>6.0</td>\n",
              "    </tr>\n",
              "    <tr>\n",
              "      <th>1998</th>\n",
              "      <td>17</td>\n",
              "      <td>20973</td>\n",
              "      <td>6.0</td>\n",
              "    </tr>\n",
              "  </tbody>\n",
              "</table>\n",
              "<p>1452 rows × 3 columns</p>\n",
              "</div>\n",
              "      <button class=\"colab-df-convert\" onclick=\"convertToInteractive('df-95dbd2a4-567a-42b4-b4ca-18755061be15')\"\n",
              "              title=\"Convert this dataframe to an interactive table.\"\n",
              "              style=\"display:none;\">\n",
              "        \n",
              "  <svg xmlns=\"http://www.w3.org/2000/svg\" height=\"24px\"viewBox=\"0 0 24 24\"\n",
              "       width=\"24px\">\n",
              "    <path d=\"M0 0h24v24H0V0z\" fill=\"none\"/>\n",
              "    <path d=\"M18.56 5.44l.94 2.06.94-2.06 2.06-.94-2.06-.94-.94-2.06-.94 2.06-2.06.94zm-11 1L8.5 8.5l.94-2.06 2.06-.94-2.06-.94L8.5 2.5l-.94 2.06-2.06.94zm10 10l.94 2.06.94-2.06 2.06-.94-2.06-.94-.94-2.06-.94 2.06-2.06.94z\"/><path d=\"M17.41 7.96l-1.37-1.37c-.4-.4-.92-.59-1.43-.59-.52 0-1.04.2-1.43.59L10.3 9.45l-7.72 7.72c-.78.78-.78 2.05 0 2.83L4 21.41c.39.39.9.59 1.41.59.51 0 1.02-.2 1.41-.59l7.78-7.78 2.81-2.81c.8-.78.8-2.07 0-2.86zM5.41 20L4 18.59l7.72-7.72 1.47 1.35L5.41 20z\"/>\n",
              "  </svg>\n",
              "      </button>\n",
              "      \n",
              "  <style>\n",
              "    .colab-df-container {\n",
              "      display:flex;\n",
              "      flex-wrap:wrap;\n",
              "      gap: 12px;\n",
              "    }\n",
              "\n",
              "    .colab-df-convert {\n",
              "      background-color: #E8F0FE;\n",
              "      border: none;\n",
              "      border-radius: 50%;\n",
              "      cursor: pointer;\n",
              "      display: none;\n",
              "      fill: #1967D2;\n",
              "      height: 32px;\n",
              "      padding: 0 0 0 0;\n",
              "      width: 32px;\n",
              "    }\n",
              "\n",
              "    .colab-df-convert:hover {\n",
              "      background-color: #E2EBFA;\n",
              "      box-shadow: 0px 1px 2px rgba(60, 64, 67, 0.3), 0px 1px 3px 1px rgba(60, 64, 67, 0.15);\n",
              "      fill: #174EA6;\n",
              "    }\n",
              "\n",
              "    [theme=dark] .colab-df-convert {\n",
              "      background-color: #3B4455;\n",
              "      fill: #D2E3FC;\n",
              "    }\n",
              "\n",
              "    [theme=dark] .colab-df-convert:hover {\n",
              "      background-color: #434B5C;\n",
              "      box-shadow: 0px 1px 3px 1px rgba(0, 0, 0, 0.15);\n",
              "      filter: drop-shadow(0px 1px 2px rgba(0, 0, 0, 0.3));\n",
              "      fill: #FFFFFF;\n",
              "    }\n",
              "  </style>\n",
              "\n",
              "      <script>\n",
              "        const buttonEl =\n",
              "          document.querySelector('#df-95dbd2a4-567a-42b4-b4ca-18755061be15 button.colab-df-convert');\n",
              "        buttonEl.style.display =\n",
              "          google.colab.kernel.accessAllowed ? 'block' : 'none';\n",
              "\n",
              "        async function convertToInteractive(key) {\n",
              "          const element = document.querySelector('#df-95dbd2a4-567a-42b4-b4ca-18755061be15');\n",
              "          const dataTable =\n",
              "            await google.colab.kernel.invokeFunction('convertToInteractive',\n",
              "                                                     [key], {});\n",
              "          if (!dataTable) return;\n",
              "\n",
              "          const docLinkHtml = 'Like what you see? Visit the ' +\n",
              "            '<a target=\"_blank\" href=https://colab.research.google.com/notebooks/data_table.ipynb>data table notebook</a>'\n",
              "            + ' to learn more about interactive tables.';\n",
              "          element.innerHTML = '';\n",
              "          dataTable['output_type'] = 'display_data';\n",
              "          await google.colab.output.renderOutput(dataTable, element);\n",
              "          const docLink = document.createElement('div');\n",
              "          docLink.innerHTML = docLinkHtml;\n",
              "          element.appendChild(docLink);\n",
              "        }\n",
              "      </script>\n",
              "    </div>\n",
              "  </div>\n",
              "  "
            ]
          },
          "metadata": {},
          "execution_count": 37
        }
      ]
    },
    {
      "cell_type": "markdown",
      "source": [
        "memanggil dataset rating.csv"
      ],
      "metadata": {
        "id": "TW1aQfw1Q4r9"
      }
    },
    {
      "cell_type": "markdown",
      "source": [
        "**Data encoding**"
      ],
      "metadata": {
        "id": "f9jQwLcuRH_N"
      }
    },
    {
      "cell_type": "code",
      "source": [
        "user_ids = rating_df['user_id'].unique().tolist()\n",
        "print('list user_id: ', user_ids)\n",
        "\n",
        "user_to_user_encoded = {x: i for i, x in enumerate(user_ids)}\n",
        "print('encoded user_id : ', user_to_user_encoded)\n",
        "\n",
        "user_encoded_to_user = {i: x for i, x in enumerate(user_ids)}\n",
        "print('encoded value to user_id: ', user_encoded_to_user)"
      ],
      "metadata": {
        "execution": {
          "iopub.status.busy": "2022-11-15T15:51:27.564929Z",
          "iopub.execute_input": "2022-11-15T15:51:27.565284Z",
          "iopub.status.idle": "2022-11-15T15:51:27.640754Z",
          "shell.execute_reply.started": "2022-11-15T15:51:27.565228Z",
          "shell.execute_reply": "2022-11-15T15:51:27.639588Z"
        },
        "trusted": true,
        "colab": {
          "base_uri": "https://localhost:8080/"
        },
        "id": "0wJNv0GmAJx3",
        "outputId": "cf7eb61d-4c9d-484a-a24a-ca7b2875feee"
      },
      "execution_count": null,
      "outputs": [
        {
          "output_type": "stream",
          "name": "stdout",
          "text": [
            "list user_id:  [1, 2, 3, 5, 7, 8, 9, 10, 11, 12, 14, 15, 16, 17]\n",
            "encoded user_id :  {1: 0, 2: 1, 3: 2, 5: 3, 7: 4, 8: 5, 9: 6, 10: 7, 11: 8, 12: 9, 14: 10, 15: 11, 16: 12, 17: 13}\n",
            "encoded value to user_id:  {0: 1, 1: 2, 2: 3, 3: 5, 4: 7, 5: 8, 6: 9, 7: 10, 8: 11, 9: 12, 10: 14, 11: 15, 12: 16, 13: 17}\n"
          ]
        }
      ]
    },
    {
      "cell_type": "markdown",
      "source": [
        "**Memisahkan user_id dan anime_id**"
      ],
      "metadata": {
        "id": "lxqfPF7LRNAf"
      }
    },
    {
      "cell_type": "code",
      "source": [
        "anime_ids = rating_df['anime_id'].unique().tolist()\n",
        "\n",
        "anime_to_anime_encoded = {x: i for i, x in enumerate(anime_ids)}\n",
        "\n",
        "anime_encoded_to_anime = {i: x for i, x in enumerate(anime_ids)}"
      ],
      "metadata": {
        "execution": {
          "iopub.status.busy": "2022-11-15T15:51:27.642392Z",
          "iopub.execute_input": "2022-11-15T15:51:27.643081Z",
          "iopub.status.idle": "2022-11-15T15:51:27.663442Z",
          "shell.execute_reply.started": "2022-11-15T15:51:27.643044Z",
          "shell.execute_reply": "2022-11-15T15:51:27.662628Z"
        },
        "trusted": true,
        "id": "40uNi3NkAJx3"
      },
      "execution_count": null,
      "outputs": []
    },
    {
      "cell_type": "code",
      "source": [
        "rating_df['user'] = rating_df['user_id'].map(user_to_user_encoded)\n",
        "\n",
        "rating_df['anime'] = rating_df['anime_id'].map(anime_to_anime_encoded)"
      ],
      "metadata": {
        "execution": {
          "iopub.status.busy": "2022-11-15T15:51:27.668964Z",
          "iopub.execute_input": "2022-11-15T15:51:27.669226Z",
          "iopub.status.idle": "2022-11-15T15:51:27.680819Z",
          "shell.execute_reply.started": "2022-11-15T15:51:27.669202Z",
          "shell.execute_reply": "2022-11-15T15:51:27.679775Z"
        },
        "trusted": true,
        "colab": {
          "base_uri": "https://localhost:8080/"
        },
        "id": "IuMgfg76AJx3",
        "outputId": "7b39939d-c9c3-4172-ff2d-33b715fca2ac"
      },
      "execution_count": null,
      "outputs": [
        {
          "output_type": "stream",
          "name": "stderr",
          "text": [
            "/usr/local/lib/python3.7/dist-packages/ipykernel_launcher.py:1: SettingWithCopyWarning: \n",
            "A value is trying to be set on a copy of a slice from a DataFrame.\n",
            "Try using .loc[row_indexer,col_indexer] = value instead\n",
            "\n",
            "See the caveats in the documentation: https://pandas.pydata.org/pandas-docs/stable/user_guide/indexing.html#returning-a-view-versus-a-copy\n",
            "  \"\"\"Entry point for launching an IPython kernel.\n",
            "/usr/local/lib/python3.7/dist-packages/ipykernel_launcher.py:3: SettingWithCopyWarning: \n",
            "A value is trying to be set on a copy of a slice from a DataFrame.\n",
            "Try using .loc[row_indexer,col_indexer] = value instead\n",
            "\n",
            "See the caveats in the documentation: https://pandas.pydata.org/pandas-docs/stable/user_guide/indexing.html#returning-a-view-versus-a-copy\n",
            "  This is separate from the ipykernel package so we can avoid doing imports until\n"
          ]
        }
      ]
    },
    {
      "cell_type": "code",
      "source": [
        "num_users = len(user_to_user_encoded)\n",
        "print(num_users)\n",
        "\n",
        "num_anime = len(anime_encoded_to_anime)\n",
        "print(num_anime)\n",
        "\n",
        "min_rating = min(rating_df['rating'])\n",
        "\n",
        "max_rating = max(rating_df['rating'])\n",
        " \n",
        "print('Number of User: {}, Number of Anime: {}, Min Rating: {}, Max Rating: {}'.format(\n",
        "    num_users, num_anime, min_rating, max_rating\n",
        "))"
      ],
      "metadata": {
        "execution": {
          "iopub.status.busy": "2022-11-15T15:51:27.682343Z",
          "iopub.execute_input": "2022-11-15T15:51:27.683529Z",
          "iopub.status.idle": "2022-11-15T15:51:27.692370Z",
          "shell.execute_reply.started": "2022-11-15T15:51:27.683502Z",
          "shell.execute_reply": "2022-11-15T15:51:27.691205Z"
        },
        "trusted": true,
        "colab": {
          "base_uri": "https://localhost:8080/"
        },
        "id": "GL_Kpe_aAJx4",
        "outputId": "e3575d86-4275-4a3c-94ff-15e885da9200"
      },
      "execution_count": null,
      "outputs": [
        {
          "output_type": "stream",
          "name": "stdout",
          "text": [
            "14\n",
            "966\n",
            "Number of User: 14, Number of Anime: 966, Min Rating: 1.0, Max Rating: 10.0\n"
          ]
        }
      ]
    },
    {
      "cell_type": "code",
      "source": [
        "rating_df = rating_df.sample(frac=1, random_state=42)\n",
        "rating_df"
      ],
      "metadata": {
        "execution": {
          "iopub.status.busy": "2022-11-15T15:51:27.693707Z",
          "iopub.execute_input": "2022-11-15T15:51:27.694601Z",
          "iopub.status.idle": "2022-11-15T15:51:27.714251Z",
          "shell.execute_reply.started": "2022-11-15T15:51:27.694560Z",
          "shell.execute_reply": "2022-11-15T15:51:27.712866Z"
        },
        "trusted": true,
        "colab": {
          "base_uri": "https://localhost:8080/",
          "height": 424
        },
        "id": "v9Xe61_HAJx4",
        "outputId": "bd1613d5-c7d3-4744-943e-1d8b21b5295b"
      },
      "execution_count": null,
      "outputs": [
        {
          "output_type": "execute_result",
          "data": {
            "text/plain": [
              "      user_id  anime_id  rating  user  anime\n",
              "1293       12      2904    10.0     9    549\n",
              "1555       14     11887     8.0    10    831\n",
              "1254       11      6707     4.0     8    774\n",
              "1796       17     10396     5.0    13    310\n",
              "739         5     25157     1.0     3    490\n",
              "...       ...       ...     ...   ...    ...\n",
              "1526       14      8676     7.0    10    819\n",
              "1561       14     14345     7.0    10     53\n",
              "1759       17      8100     7.0    13    904\n",
              "1110        7     30365     7.0     4    677\n",
              "1557       14     13367     7.0    10    350\n",
              "\n",
              "[1452 rows x 5 columns]"
            ],
            "text/html": [
              "\n",
              "  <div id=\"df-e4c7e0e3-b1c7-4f9a-83ba-35eda4b64784\">\n",
              "    <div class=\"colab-df-container\">\n",
              "      <div>\n",
              "<style scoped>\n",
              "    .dataframe tbody tr th:only-of-type {\n",
              "        vertical-align: middle;\n",
              "    }\n",
              "\n",
              "    .dataframe tbody tr th {\n",
              "        vertical-align: top;\n",
              "    }\n",
              "\n",
              "    .dataframe thead th {\n",
              "        text-align: right;\n",
              "    }\n",
              "</style>\n",
              "<table border=\"1\" class=\"dataframe\">\n",
              "  <thead>\n",
              "    <tr style=\"text-align: right;\">\n",
              "      <th></th>\n",
              "      <th>user_id</th>\n",
              "      <th>anime_id</th>\n",
              "      <th>rating</th>\n",
              "      <th>user</th>\n",
              "      <th>anime</th>\n",
              "    </tr>\n",
              "  </thead>\n",
              "  <tbody>\n",
              "    <tr>\n",
              "      <th>1293</th>\n",
              "      <td>12</td>\n",
              "      <td>2904</td>\n",
              "      <td>10.0</td>\n",
              "      <td>9</td>\n",
              "      <td>549</td>\n",
              "    </tr>\n",
              "    <tr>\n",
              "      <th>1555</th>\n",
              "      <td>14</td>\n",
              "      <td>11887</td>\n",
              "      <td>8.0</td>\n",
              "      <td>10</td>\n",
              "      <td>831</td>\n",
              "    </tr>\n",
              "    <tr>\n",
              "      <th>1254</th>\n",
              "      <td>11</td>\n",
              "      <td>6707</td>\n",
              "      <td>4.0</td>\n",
              "      <td>8</td>\n",
              "      <td>774</td>\n",
              "    </tr>\n",
              "    <tr>\n",
              "      <th>1796</th>\n",
              "      <td>17</td>\n",
              "      <td>10396</td>\n",
              "      <td>5.0</td>\n",
              "      <td>13</td>\n",
              "      <td>310</td>\n",
              "    </tr>\n",
              "    <tr>\n",
              "      <th>739</th>\n",
              "      <td>5</td>\n",
              "      <td>25157</td>\n",
              "      <td>1.0</td>\n",
              "      <td>3</td>\n",
              "      <td>490</td>\n",
              "    </tr>\n",
              "    <tr>\n",
              "      <th>...</th>\n",
              "      <td>...</td>\n",
              "      <td>...</td>\n",
              "      <td>...</td>\n",
              "      <td>...</td>\n",
              "      <td>...</td>\n",
              "    </tr>\n",
              "    <tr>\n",
              "      <th>1526</th>\n",
              "      <td>14</td>\n",
              "      <td>8676</td>\n",
              "      <td>7.0</td>\n",
              "      <td>10</td>\n",
              "      <td>819</td>\n",
              "    </tr>\n",
              "    <tr>\n",
              "      <th>1561</th>\n",
              "      <td>14</td>\n",
              "      <td>14345</td>\n",
              "      <td>7.0</td>\n",
              "      <td>10</td>\n",
              "      <td>53</td>\n",
              "    </tr>\n",
              "    <tr>\n",
              "      <th>1759</th>\n",
              "      <td>17</td>\n",
              "      <td>8100</td>\n",
              "      <td>7.0</td>\n",
              "      <td>13</td>\n",
              "      <td>904</td>\n",
              "    </tr>\n",
              "    <tr>\n",
              "      <th>1110</th>\n",
              "      <td>7</td>\n",
              "      <td>30365</td>\n",
              "      <td>7.0</td>\n",
              "      <td>4</td>\n",
              "      <td>677</td>\n",
              "    </tr>\n",
              "    <tr>\n",
              "      <th>1557</th>\n",
              "      <td>14</td>\n",
              "      <td>13367</td>\n",
              "      <td>7.0</td>\n",
              "      <td>10</td>\n",
              "      <td>350</td>\n",
              "    </tr>\n",
              "  </tbody>\n",
              "</table>\n",
              "<p>1452 rows × 5 columns</p>\n",
              "</div>\n",
              "      <button class=\"colab-df-convert\" onclick=\"convertToInteractive('df-e4c7e0e3-b1c7-4f9a-83ba-35eda4b64784')\"\n",
              "              title=\"Convert this dataframe to an interactive table.\"\n",
              "              style=\"display:none;\">\n",
              "        \n",
              "  <svg xmlns=\"http://www.w3.org/2000/svg\" height=\"24px\"viewBox=\"0 0 24 24\"\n",
              "       width=\"24px\">\n",
              "    <path d=\"M0 0h24v24H0V0z\" fill=\"none\"/>\n",
              "    <path d=\"M18.56 5.44l.94 2.06.94-2.06 2.06-.94-2.06-.94-.94-2.06-.94 2.06-2.06.94zm-11 1L8.5 8.5l.94-2.06 2.06-.94-2.06-.94L8.5 2.5l-.94 2.06-2.06.94zm10 10l.94 2.06.94-2.06 2.06-.94-2.06-.94-.94-2.06-.94 2.06-2.06.94z\"/><path d=\"M17.41 7.96l-1.37-1.37c-.4-.4-.92-.59-1.43-.59-.52 0-1.04.2-1.43.59L10.3 9.45l-7.72 7.72c-.78.78-.78 2.05 0 2.83L4 21.41c.39.39.9.59 1.41.59.51 0 1.02-.2 1.41-.59l7.78-7.78 2.81-2.81c.8-.78.8-2.07 0-2.86zM5.41 20L4 18.59l7.72-7.72 1.47 1.35L5.41 20z\"/>\n",
              "  </svg>\n",
              "      </button>\n",
              "      \n",
              "  <style>\n",
              "    .colab-df-container {\n",
              "      display:flex;\n",
              "      flex-wrap:wrap;\n",
              "      gap: 12px;\n",
              "    }\n",
              "\n",
              "    .colab-df-convert {\n",
              "      background-color: #E8F0FE;\n",
              "      border: none;\n",
              "      border-radius: 50%;\n",
              "      cursor: pointer;\n",
              "      display: none;\n",
              "      fill: #1967D2;\n",
              "      height: 32px;\n",
              "      padding: 0 0 0 0;\n",
              "      width: 32px;\n",
              "    }\n",
              "\n",
              "    .colab-df-convert:hover {\n",
              "      background-color: #E2EBFA;\n",
              "      box-shadow: 0px 1px 2px rgba(60, 64, 67, 0.3), 0px 1px 3px 1px rgba(60, 64, 67, 0.15);\n",
              "      fill: #174EA6;\n",
              "    }\n",
              "\n",
              "    [theme=dark] .colab-df-convert {\n",
              "      background-color: #3B4455;\n",
              "      fill: #D2E3FC;\n",
              "    }\n",
              "\n",
              "    [theme=dark] .colab-df-convert:hover {\n",
              "      background-color: #434B5C;\n",
              "      box-shadow: 0px 1px 3px 1px rgba(0, 0, 0, 0.15);\n",
              "      filter: drop-shadow(0px 1px 2px rgba(0, 0, 0, 0.3));\n",
              "      fill: #FFFFFF;\n",
              "    }\n",
              "  </style>\n",
              "\n",
              "      <script>\n",
              "        const buttonEl =\n",
              "          document.querySelector('#df-e4c7e0e3-b1c7-4f9a-83ba-35eda4b64784 button.colab-df-convert');\n",
              "        buttonEl.style.display =\n",
              "          google.colab.kernel.accessAllowed ? 'block' : 'none';\n",
              "\n",
              "        async function convertToInteractive(key) {\n",
              "          const element = document.querySelector('#df-e4c7e0e3-b1c7-4f9a-83ba-35eda4b64784');\n",
              "          const dataTable =\n",
              "            await google.colab.kernel.invokeFunction('convertToInteractive',\n",
              "                                                     [key], {});\n",
              "          if (!dataTable) return;\n",
              "\n",
              "          const docLinkHtml = 'Like what you see? Visit the ' +\n",
              "            '<a target=\"_blank\" href=https://colab.research.google.com/notebooks/data_table.ipynb>data table notebook</a>'\n",
              "            + ' to learn more about interactive tables.';\n",
              "          element.innerHTML = '';\n",
              "          dataTable['output_type'] = 'display_data';\n",
              "          await google.colab.output.renderOutput(dataTable, element);\n",
              "          const docLink = document.createElement('div');\n",
              "          docLink.innerHTML = docLinkHtml;\n",
              "          element.appendChild(docLink);\n",
              "        }\n",
              "      </script>\n",
              "    </div>\n",
              "  </div>\n",
              "  "
            ]
          },
          "metadata": {},
          "execution_count": 42
        }
      ]
    },
    {
      "cell_type": "markdown",
      "source": [
        "mengacak urutan data"
      ],
      "metadata": {
        "id": "rQeZ_QTXRYs1"
      }
    },
    {
      "cell_type": "markdown",
      "source": [
        "**Train n Split**"
      ],
      "metadata": {
        "id": "w3ay_0c1Rd33"
      }
    },
    {
      "cell_type": "code",
      "source": [
        "x = rating_df[['user', 'anime']].values\n",
        "\n",
        "y = rating_df['rating'].apply(lambda x: (x - min_rating) / (max_rating - min_rating)).values\n",
        "\n",
        "train_indices = int(0.8 * rating_df.shape[0])\n",
        "x_train, x_val, y_train, y_val = (\n",
        "    x[:train_indices],\n",
        "    x[train_indices:],\n",
        "    y[:train_indices],\n",
        "    y[train_indices:]\n",
        ")\n",
        " \n",
        "print(x, y)"
      ],
      "metadata": {
        "execution": {
          "iopub.status.busy": "2022-11-15T15:51:27.715922Z",
          "iopub.execute_input": "2022-11-15T15:51:27.716856Z",
          "iopub.status.idle": "2022-11-15T15:51:27.728032Z",
          "shell.execute_reply.started": "2022-11-15T15:51:27.716813Z",
          "shell.execute_reply": "2022-11-15T15:51:27.726561Z"
        },
        "trusted": true,
        "colab": {
          "base_uri": "https://localhost:8080/"
        },
        "id": "U23qGwxGAJx4",
        "outputId": "cd08a611-580f-45c9-943e-9c38b8149991"
      },
      "execution_count": null,
      "outputs": [
        {
          "output_type": "stream",
          "name": "stdout",
          "text": [
            "[[  9 549]\n",
            " [ 10 831]\n",
            " [  8 774]\n",
            " ...\n",
            " [ 13 904]\n",
            " [  4 677]\n",
            " [ 10 350]] [1.         0.77777778 0.33333333 ... 0.66666667 0.66666667 0.66666667]\n"
          ]
        }
      ]
    },
    {
      "cell_type": "markdown",
      "source": [
        "Membuat Fungsi rekomendasi"
      ],
      "metadata": {
        "id": "wXrX8d5VRiz4"
      }
    },
    {
      "cell_type": "code",
      "source": [
        "class RecommenderNet(tf.keras.Model):\n",
        "\n",
        "  def __init__(self, num_users, num_anime, embedding_size, **kwargs):\n",
        "    super(RecommenderNet, self).__init__(**kwargs)\n",
        "    self.num_users = num_users\n",
        "    self.num_anime = num_anime\n",
        "    self.embedding_size = embedding_size\n",
        "    self.user_embedding = layers.Embedding(\n",
        "        num_users,\n",
        "        embedding_size,\n",
        "        embeddings_initializer = 'he_normal',\n",
        "        embeddings_regularizer = keras.regularizers.l2(1e-6)\n",
        "    )\n",
        "    self.user_bias = layers.Embedding(num_users, 1)\n",
        "    self.anime_embedding = layers.Embedding(\n",
        "        num_anime,\n",
        "        embedding_size,\n",
        "        embeddings_initializer = 'he_normal',\n",
        "        embeddings_regularizer = keras.regularizers.l2(1e-6)\n",
        "    )\n",
        "    self.anime_bias = layers.Embedding(num_anime, 1)\n",
        " \n",
        "  def call(self, inputs):\n",
        "    user_vector = self.user_embedding(inputs[:,0])\n",
        "    user_bias = self.user_bias(inputs[:, 0])\n",
        "    anime_vector = self.anime_embedding(inputs[:, 1])\n",
        "    anime_bias = self.anime_bias(inputs[:, 1])\n",
        " \n",
        "    dot_user_anime = tf.tensordot(user_vector, anime_vector, 2) \n",
        " \n",
        "    x = dot_user_anime + user_bias + anime_bias\n",
        "    \n",
        "    return tf.nn.sigmoid(x)\n",
        "    \n",
        "model = RecommenderNet(num_users, num_anime, 50)\n",
        " \n",
        "model.compile(\n",
        "    loss = tf.keras.losses.BinaryCrossentropy(),\n",
        "    optimizer = keras.optimizers.Adam(learning_rate=0.001),\n",
        "    metrics=[tf.keras.metrics.RootMeanSquaredError()]\n",
        ")"
      ],
      "metadata": {
        "execution": {
          "iopub.status.busy": "2022-11-15T15:51:27.729555Z",
          "iopub.execute_input": "2022-11-15T15:51:27.730804Z",
          "iopub.status.idle": "2022-11-15T15:51:27.773253Z",
          "shell.execute_reply.started": "2022-11-15T15:51:27.730766Z",
          "shell.execute_reply": "2022-11-15T15:51:27.771826Z"
        },
        "trusted": true,
        "id": "WQ8CFVqfAJx4"
      },
      "execution_count": null,
      "outputs": []
    },
    {
      "cell_type": "markdown",
      "source": [
        "**Train model**"
      ],
      "metadata": {
        "id": "c2I7hJMpRs7O"
      }
    },
    {
      "cell_type": "code",
      "source": [
        "history = model.fit(\n",
        "    x = x_train,\n",
        "    y = y_train,\n",
        "    batch_size = 8,\n",
        "    epochs = 20,\n",
        "    validation_data = (x_val, y_val)\n",
        ")"
      ],
      "metadata": {
        "colab": {
          "base_uri": "https://localhost:8080/"
        },
        "id": "5KsYRv4qDLnf",
        "outputId": "78a2911d-ffc8-4e93-88a2-f43280a0de6b"
      },
      "execution_count": null,
      "outputs": [
        {
          "output_type": "stream",
          "name": "stdout",
          "text": [
            "Epoch 1/20\n",
            "146/146 [==============================] - 4s 6ms/step - loss: 0.6944 - root_mean_squared_error: 0.2681 - val_loss: 0.6721 - val_root_mean_squared_error: 0.2540\n",
            "Epoch 2/20\n",
            "146/146 [==============================] - 1s 4ms/step - loss: 0.6747 - root_mean_squared_error: 0.2488 - val_loss: 0.6668 - val_root_mean_squared_error: 0.2488\n",
            "Epoch 3/20\n",
            "146/146 [==============================] - 1s 5ms/step - loss: 0.6620 - root_mean_squared_error: 0.2364 - val_loss: 0.6572 - val_root_mean_squared_error: 0.2391\n",
            "Epoch 4/20\n",
            "146/146 [==============================] - 1s 4ms/step - loss: 0.6564 - root_mean_squared_error: 0.2297 - val_loss: 0.6554 - val_root_mean_squared_error: 0.2373\n",
            "Epoch 5/20\n",
            "146/146 [==============================] - 1s 5ms/step - loss: 0.6560 - root_mean_squared_error: 0.2307 - val_loss: 0.6493 - val_root_mean_squared_error: 0.2309\n",
            "Epoch 6/20\n",
            "146/146 [==============================] - 1s 5ms/step - loss: 0.6466 - root_mean_squared_error: 0.2192 - val_loss: 0.6469 - val_root_mean_squared_error: 0.2284\n",
            "Epoch 7/20\n",
            "146/146 [==============================] - 1s 4ms/step - loss: 0.6323 - root_mean_squared_error: 0.2046 - val_loss: 0.6437 - val_root_mean_squared_error: 0.2250\n",
            "Epoch 8/20\n",
            "146/146 [==============================] - 1s 4ms/step - loss: 0.6287 - root_mean_squared_error: 0.2002 - val_loss: 0.6432 - val_root_mean_squared_error: 0.2243\n",
            "Epoch 9/20\n",
            "146/146 [==============================] - 1s 4ms/step - loss: 0.6284 - root_mean_squared_error: 0.1996 - val_loss: 0.6401 - val_root_mean_squared_error: 0.2210\n",
            "Epoch 10/20\n",
            "146/146 [==============================] - 1s 5ms/step - loss: 0.6213 - root_mean_squared_error: 0.1908 - val_loss: 0.6390 - val_root_mean_squared_error: 0.2198\n",
            "Epoch 11/20\n",
            "146/146 [==============================] - 1s 5ms/step - loss: 0.6205 - root_mean_squared_error: 0.1902 - val_loss: 0.6363 - val_root_mean_squared_error: 0.2168\n",
            "Epoch 12/20\n",
            "146/146 [==============================] - 1s 5ms/step - loss: 0.6172 - root_mean_squared_error: 0.1866 - val_loss: 0.6358 - val_root_mean_squared_error: 0.2161\n",
            "Epoch 13/20\n",
            "146/146 [==============================] - 1s 5ms/step - loss: 0.6135 - root_mean_squared_error: 0.1816 - val_loss: 0.6360 - val_root_mean_squared_error: 0.2164\n",
            "Epoch 14/20\n",
            "146/146 [==============================] - 1s 5ms/step - loss: 0.6094 - root_mean_squared_error: 0.1767 - val_loss: 0.6354 - val_root_mean_squared_error: 0.2157\n",
            "Epoch 15/20\n",
            "146/146 [==============================] - 1s 5ms/step - loss: 0.6092 - root_mean_squared_error: 0.1762 - val_loss: 0.6351 - val_root_mean_squared_error: 0.2154\n",
            "Epoch 16/20\n",
            "146/146 [==============================] - 1s 4ms/step - loss: 0.6058 - root_mean_squared_error: 0.1719 - val_loss: 0.6345 - val_root_mean_squared_error: 0.2147\n",
            "Epoch 17/20\n",
            "146/146 [==============================] - 1s 5ms/step - loss: 0.6054 - root_mean_squared_error: 0.1717 - val_loss: 0.6343 - val_root_mean_squared_error: 0.2145\n",
            "Epoch 18/20\n",
            "146/146 [==============================] - 1s 4ms/step - loss: 0.6018 - root_mean_squared_error: 0.1667 - val_loss: 0.6339 - val_root_mean_squared_error: 0.2140\n",
            "Epoch 19/20\n",
            "146/146 [==============================] - 1s 5ms/step - loss: 0.6023 - root_mean_squared_error: 0.1677 - val_loss: 0.6335 - val_root_mean_squared_error: 0.2137\n",
            "Epoch 20/20\n",
            "146/146 [==============================] - 1s 5ms/step - loss: 0.5988 - root_mean_squared_error: 0.1627 - val_loss: 0.6334 - val_root_mean_squared_error: 0.2134\n"
          ]
        }
      ]
    },
    {
      "cell_type": "markdown",
      "source": [
        "Visualisasi train dan test"
      ],
      "metadata": {
        "id": "mjsHkeISR5sN"
      }
    },
    {
      "cell_type": "code",
      "source": [
        "plt.plot(history.history['root_mean_squared_error'])\n",
        "plt.plot(history.history['val_root_mean_squared_error'])\n",
        "plt.title('model_metrics')\n",
        "plt.ylabel('root_mean_squared_error')\n",
        "plt.xlabel('epoch')\n",
        "plt.legend(['train', 'test'], loc='upper left')\n",
        "plt.show()"
      ],
      "metadata": {
        "colab": {
          "base_uri": "https://localhost:8080/",
          "height": 295
        },
        "id": "tT5Tj9ypDVn2",
        "outputId": "e54daf6b-df7a-4486-b93d-73612f3cfaec"
      },
      "execution_count": null,
      "outputs": [
        {
          "output_type": "display_data",
          "data": {
            "text/plain": [
              "<Figure size 432x288 with 1 Axes>"
            ],
            "image/png": "[encoded data removed]"
          },
          "metadata": {
            "needs_background": "light"
          }
        }
      ]
    },
    {
      "cell_type": "markdown",
      "source": [
        "Membuat fungsi rekomendasi"
      ],
      "metadata": {
        "id": "Az10Gj8fSZBs"
      }
    },
    {
      "cell_type": "code",
      "source": [
        "anime_df = anime_df\n",
        "ratingh_df = rating_df\n",
        "\n",
        "userID = rating_df.user_id.sample(1).iloc[0]\n",
        "anime_watched_by_user = rating_df[rating_df.user_id == userID]\n",
        " \n",
        "anime_not_watched = anime_df[~anime_df['anime_id'].isin(anime_watched_by_user.anime_id.values)]['anime_id'] \n",
        "anime_not_watched = list(\n",
        "    set(anime_not_watched)\n",
        "    .intersection(set(anime_to_anime_encoded.keys()))\n",
        ")\n",
        " \n",
        "anime_not_watched = [[anime_to_anime_encoded.get(x)] for x in anime_not_watched]\n",
        "user_encoder = user_to_user_encoded.get(userID)\n",
        "user_anime_array = np.hstack(\n",
        "    ([[user_encoder]] * len(anime_not_watched), anime_not_watched)\n",
        ")"
      ],
      "metadata": {
        "id": "cnPJE7PDDdEW"
      },
      "execution_count": null,
      "outputs": []
    },
    {
      "cell_type": "markdown",
      "source": [
        "Menggabungkan hasil dari content based dan collaborative"
      ],
      "metadata": {
        "id": "vt6RTnFkSgQn"
      }
    },
    {
      "cell_type": "code",
      "source": [
        "ratings = model.predict(user_anime_array).flatten()\n",
        " \n",
        "top_ratings_indices = ratings.argsort()[-10:][::-1]\n",
        "recommended_anime_ids = [\n",
        "    anime_encoded_to_anime.get(anime_not_watched[x][0]) for x in top_ratings_indices\n",
        "]\n",
        " \n",
        "print('Showing recommendations for users: {}'.format(userID))\n",
        "print('===' * 9)\n",
        "print('Anime with high ratings from user')\n",
        "print('----' * 8)\n",
        " \n",
        "top_anime_user = (\n",
        "    anime_watched_by_user.sort_values(\n",
        "        by = 'rating',\n",
        "        ascending=False\n",
        "    )\n",
        "    .head(5)\n",
        "    .anime_id.values\n",
        ")\n",
        " \n",
        "anime_df_rows = anime_df[anime_df['anime_id'].isin(top_anime_user)]\n",
        "for row in anime_df_rows.itertuples():\n",
        "    print(row.name, ':', row.genre)\n",
        " \n",
        "print('----' * 8)\n",
        "print('Top 10 anime recommendation')\n",
        "print('----' * 8)\n",
        " \n",
        "recommended_anime = anime_df[anime_df['anime_id'].isin(recommended_anime_ids)]\n",
        "for row in recommended_anime.itertuples():\n",
        "    print(row.name, ':', row.genre)"
      ],
      "metadata": {
        "colab": {
          "base_uri": "https://localhost:8080/"
        },
        "id": "tAPmauDaDlcW",
        "outputId": "25e73841-f03b-4385-c1fd-cf63869fb775"
      },
      "execution_count": null,
      "outputs": [
        {
          "output_type": "stream",
          "name": "stdout",
          "text": [
            "20/20 [==============================] - 0s 2ms/step\n",
            "Showing recommendations for users: 7\n",
            "===========================\n",
            "Anime with high ratings from user\n",
            "--------------------------------\n",
            "No Game No Life : Adventure, Comedy, Ecchi, Fantasy, Game, Supernatural\n",
            "Neon Genesis Evangelion : Action, Dementia, Drama, Mecha, Psychological, Sci-Fi\n",
            "Pokemon: The Origin : Action, Adventure, Comedy, Fantasy, Kids\n",
            "Umineko no Naku Koro ni : Horror, Mystery, Psychological, Supernatural\n",
            "Hayate no Gotoku! Cant Take My Eyes Off You : Comedy, Harem, Parody, Shounen\n",
            "--------------------------------\n",
            "Top 10 anime recommendation\n",
            "--------------------------------\n",
            "Haikyuu!! Second Season : Comedy, Drama, School, Shounen, Sports\n",
            "Sen to Chihiro no Kamikakushi : Adventure, Drama, Supernatural\n",
            "Ano Hi Mita Hana no Namae wo Bokutachi wa Mada Shiranai. : Drama, Slice of Life, Supernatural\n",
            "Magi: The Kingdom of Magic : Action, Adventure, Fantasy, Magic, Shounen\n",
            "Sakamichi no Apollon : Drama, Josei, Music, Romance, School\n",
            "Fate/stay night: Unlimited Blade Works : Action, Fantasy, Magic, Shounen, Supernatural\n",
            "Hajime no Ippo: Boxer no Kobushi : Comedy, Drama, Shounen, Sports\n",
            "Kara no Kyoukai 3: Tsuukaku Zanryuu : Action, Drama, Mystery, Supernatural, Thriller\n",
            "Yowamushi Pedal : Comedy, Drama, Shounen, Sports\n",
            "Byousoku 5 Centimeter : Drama, Romance, Slice of Life\n"
          ]
        }
      ]
    }
  ]
}